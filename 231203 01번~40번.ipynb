{
 "cells": [
  {
   "cell_type": "markdown",
   "id": "4c043cf2",
   "metadata": {},
   "source": [
    "# print 기초\n",
    "화면에 Hello World 문자열을 출력하세요."
   ]
  },
  {
   "cell_type": "code",
   "execution_count": 3,
   "id": "be6b8b91",
   "metadata": {},
   "outputs": [
    {
     "name": "stdout",
     "output_type": "stream",
     "text": [
      "Hello World\n"
     ]
    }
   ],
   "source": [
    "print(\"Hello World\")"
   ]
  },
  {
   "cell_type": "markdown",
   "id": "3498abe4",
   "metadata": {},
   "source": [
    "# print 기초\n",
    "화면에 Mary's cosmetics을 출력하세요. (중간에 '가 있음에 주의하세요)"
   ]
  },
  {
   "cell_type": "code",
   "execution_count": 4,
   "id": "0dd7be3f",
   "metadata": {},
   "outputs": [
    {
     "name": "stdout",
     "output_type": "stream",
     "text": [
      "Mary's cosmetics\n"
     ]
    }
   ],
   "source": [
    "print('Mary\\'s cosmetics')"
   ]
  },
  {
   "cell_type": "markdown",
   "id": "b3d9c3a7",
   "metadata": {},
   "source": [
    "# print 기초\n",
    "화면에 아래 문장을 출력하세요. (중간에 \"가 있음에 주의하세요.)\n",
    "\n",
    "신씨가 소리질렀다. \"도둑이야\"."
   ]
  },
  {
   "cell_type": "code",
   "execution_count": 5,
   "id": "d98123de",
   "metadata": {},
   "outputs": [
    {
     "name": "stdout",
     "output_type": "stream",
     "text": [
      "신씨가 소리질렀다. \"도둑이야\".\n"
     ]
    }
   ],
   "source": [
    "print('신씨가 소리질렀다. \\\"도둑이야\\\".')"
   ]
  },
  {
   "cell_type": "markdown",
   "id": "9d6b4db6",
   "metadata": {},
   "source": [
    "# print 기초\n",
    "화면에 C:\\Windows를 출력하세요."
   ]
  },
  {
   "cell_type": "code",
   "execution_count": 14,
   "id": "d5d37644",
   "metadata": {},
   "outputs": [
    {
     "name": "stdout",
     "output_type": "stream",
     "text": [
      "C:\\Windows\n"
     ]
    }
   ],
   "source": [
    "print('C:\\Windows')"
   ]
  },
  {
   "cell_type": "markdown",
   "id": "1fb6af77",
   "metadata": {},
   "source": [
    "# print 탭과 줄바꿈\n",
    "다음 코드를 실행해보고 \\t와 \\n의 역할을 설명해보세요.\n",
    "\n",
    "print(\"안녕하세요.\\n만나서\\t\\t반갑습니다.\")"
   ]
  },
  {
   "cell_type": "code",
   "execution_count": 16,
   "id": "f5312a12",
   "metadata": {},
   "outputs": [
    {
     "name": "stdout",
     "output_type": "stream",
     "text": [
      "안녕하세요.\n",
      "만나서\t\t반갑습니다.\n"
     ]
    }
   ],
   "source": [
    "print(\"안녕하세요.\\n만나서\\t\\t반갑습니다.\")\n",
    "# \\n = 문장 줄바꿈\n",
    "# \\t 문장 내 탭"
   ]
  },
  {
   "cell_type": "markdown",
   "id": "f75772f3",
   "metadata": {},
   "source": [
    "# print 여러 데이터 출력\n",
    "print 함수에 두 개의 단어를 입력한 예제입니다. 아래 코드의 출력 결과를 예상해봅시다.\n",
    "\n",
    "print (\"오늘은\", \"일요일\")"
   ]
  },
  {
   "cell_type": "code",
   "execution_count": 17,
   "id": "2a698edb",
   "metadata": {},
   "outputs": [
    {
     "name": "stdout",
     "output_type": "stream",
     "text": [
      "오늘은 일요일\n"
     ]
    }
   ],
   "source": [
    "print (\"오늘은\", \"일요일\")"
   ]
  },
  {
   "cell_type": "markdown",
   "id": "4f008148",
   "metadata": {},
   "source": [
    "# print 기초\n",
    "print() 함수를 사용하여 다음과 같이 출력하세요.\n",
    "\n",
    "naver;kakao;sk;samsung"
   ]
  },
  {
   "cell_type": "code",
   "execution_count": 19,
   "id": "bc3c0e20",
   "metadata": {},
   "outputs": [
    {
     "name": "stdout",
     "output_type": "stream",
     "text": [
      "naver;kakao;sk;samsung\n"
     ]
    }
   ],
   "source": [
    "print('naver;kakao;sk;samsung')"
   ]
  },
  {
   "cell_type": "markdown",
   "id": "2506ec21",
   "metadata": {},
   "source": [
    "# print 기초\n",
    "print() 함수를 사용하여 다음과 같이 출력하세요.\n",
    "\n",
    "naver/kakao/sk/samsung"
   ]
  },
  {
   "cell_type": "code",
   "execution_count": 20,
   "id": "481f8a81",
   "metadata": {},
   "outputs": [
    {
     "name": "stdout",
     "output_type": "stream",
     "text": [
      "naver/kakao/sk/samsung\n"
     ]
    }
   ],
   "source": [
    "print('naver/kakao/sk/samsung')"
   ]
  },
  {
   "cell_type": "markdown",
   "id": "530c09c0",
   "metadata": {},
   "source": [
    "# print 줄바꿈\n",
    "다음 코드를 수정하여 줄바꿈이 없이 출력하세요. (힌트: end='') print 함수는 두 번 사용합니다. 세미콜론 (;)은 한줄에 여러 개의 명령을 작성하기 위해 사용합니다.\n",
    "\n",
    "print(\"first\");print(\"second\")"
   ]
  },
  {
   "cell_type": "code",
   "execution_count": 37,
   "id": "831db7b6",
   "metadata": {},
   "outputs": [
    {
     "name": "stdout",
     "output_type": "stream",
     "text": [
      "firstsecond\n"
     ]
    }
   ],
   "source": [
    "print(\"first\", end=\"\");print(\"second\")\n",
    "# end = \"\" 이거 처음봐요...."
   ]
  },
  {
   "cell_type": "markdown",
   "id": "2cacff55",
   "metadata": {},
   "source": [
    "# 연산 결과 출력\n",
    "5/3의 결과를 화면에 출력하세요."
   ]
  },
  {
   "cell_type": "code",
   "execution_count": 38,
   "id": "dc7adc87",
   "metadata": {},
   "outputs": [
    {
     "data": {
      "text/plain": [
       "1.6666666666666667"
      ]
     },
     "execution_count": 38,
     "metadata": {},
     "output_type": "execute_result"
    }
   ],
   "source": [
    "5/3"
   ]
  },
  {
   "cell_type": "markdown",
   "id": "a12ede92",
   "metadata": {},
   "source": [
    "# 011 변수 사용하기\n",
    "삼성전자라는 변수로 50,000원을 바인딩해보세요. 삼성전자 주식 10주를 보유하고 있을 때 총 평가금액을 출력하세요."
   ]
  },
  {
   "cell_type": "code",
   "execution_count": 2,
   "id": "69a55314",
   "metadata": {},
   "outputs": [
    {
     "name": "stdout",
     "output_type": "stream",
     "text": [
      "500000\n"
     ]
    }
   ],
   "source": [
    "삼성전자 = 50000\n",
    "총평가금액 = 삼성전자*10\n",
    "print(총평가금액)"
   ]
  },
  {
   "cell_type": "markdown",
   "id": "0c35b11b",
   "metadata": {},
   "source": [
    "# 012 변수 사용하기\n",
    "다음 표는 삼성전자의 일부 투자정보입니다. 변수를 사용해서 시가총액, 현재가, PER 등을 바인딩해보세요."
   ]
  },
  {
   "cell_type": "code",
   "execution_count": 3,
   "id": "834b1c93",
   "metadata": {},
   "outputs": [],
   "source": [
    "시가총액 = 29800000000000\n",
    "현재가 = 50000\n",
    "PER = 15.79"
   ]
  },
  {
   "cell_type": "code",
   "execution_count": 6,
   "id": "aadef7be",
   "metadata": {},
   "outputs": [
    {
     "name": "stdout",
     "output_type": "stream",
     "text": [
      "298000000000000 <class 'int'>\n",
      "50000 <class 'int'>\n",
      "15.79 <class 'float'>\n"
     ]
    }
   ],
   "source": [
    "# 문제 정답\n",
    "시가총액 = 298000000000000\n",
    "현재가 = 50000\n",
    "PER = 15.79\n",
    "print(시가총액, type(시가총액))\n",
    "print(현재가, type(현재가))\n",
    "print(PER, type(PER))"
   ]
  },
  {
   "cell_type": "markdown",
   "id": "a77f6eaa",
   "metadata": {},
   "source": [
    "# 문자열 출력\n",
    "변수 s와 t에는 각각 문자열이 바인딩 되어있습니다.\n",
    "\n",
    "s = \"hello\"\n",
    "\n",
    "t = \"python\"\n",
    "\n",
    "두 변수를 이용하여 아래와 같이 출력해보세요.\n",
    "\n",
    "실행 예:\n",
    "hello! python"
   ]
  },
  {
   "cell_type": "code",
   "execution_count": 27,
   "id": "cd16bc46",
   "metadata": {},
   "outputs": [
    {
     "name": "stdout",
     "output_type": "stream",
     "text": [
      "hello\n"
     ]
    }
   ],
   "source": [
    "s = \"hello\"\n",
    "t = \"python\""
   ]
  },
  {
   "cell_type": "code",
   "execution_count": 28,
   "id": "e44eb84b",
   "metadata": {},
   "outputs": [
    {
     "name": "stdout",
     "output_type": "stream",
     "text": [
      "hello! python\n"
     ]
    }
   ],
   "source": [
    "#문제 정답\n",
    "s = \"hello\"\n",
    "t = \"python\"\n",
    "print(s+\"!\", t)"
   ]
  },
  {
   "cell_type": "markdown",
   "id": "1b8c951d",
   "metadata": {},
   "source": [
    "# 파이썬을 이용한 값 계산\n",
    "아래 코드의 실행 결과를 예상해보세요."
   ]
  },
  {
   "cell_type": "code",
   "execution_count": 29,
   "id": "2ad03f19",
   "metadata": {},
   "outputs": [
    {
     "data": {
      "text/plain": [
       "8"
      ]
     },
     "execution_count": 29,
     "metadata": {},
     "output_type": "execute_result"
    }
   ],
   "source": [
    "2 + 2 * 3 \n",
    "# 8..?"
   ]
  },
  {
   "cell_type": "markdown",
   "id": "76e1f266",
   "metadata": {},
   "source": [
    "# type 함수\n",
    "type() 함수는 데이터 타입을 판별합니다. 변수 a에는 128 숫자가 바인딩돼 있어 type 함수가 int (정수)형임을 알려줍니다.\n",
    "\n",
    "a = 128\n",
    "\n",
    "print (type(a))\n",
    "\n",
    "<class 'int'>\n",
    "\n",
    "아래 변수에 바인딩된 값의 타입을 판별해보세요.\n",
    "\n",
    "a = \"132\""
   ]
  },
  {
   "cell_type": "code",
   "execution_count": 31,
   "id": "4d1257e2",
   "metadata": {},
   "outputs": [
    {
     "name": "stdout",
     "output_type": "stream",
     "text": [
      "132 <class 'str'>\n"
     ]
    }
   ],
   "source": [
    "a =\"132\"\n",
    "print(a, type(a))"
   ]
  },
  {
   "cell_type": "markdown",
   "id": "559bf6bc",
   "metadata": {},
   "source": [
    "# 문자열을 정수로 변환\n",
    "문자열 '720'를 정수형으로 변환해보세요."
   ]
  },
  {
   "cell_type": "code",
   "execution_count": 36,
   "id": "7a03d2d1",
   "metadata": {},
   "outputs": [
    {
     "name": "stdout",
     "output_type": "stream",
     "text": [
      "<class 'str'>\n",
      "720\n",
      "<class 'int'>\n"
     ]
    }
   ],
   "source": [
    "a = '720'\n",
    "print(type(a))\n",
    "print(int(a))\n",
    "print(type(int(a)))"
   ]
  },
  {
   "cell_type": "markdown",
   "id": "242dc850",
   "metadata": {},
   "source": [
    "# 정수를 문자열 100으로 변환\n",
    "정수 100을 문자열 '100'으로 변환해보세요."
   ]
  },
  {
   "cell_type": "code",
   "execution_count": 37,
   "id": "0f245ff6",
   "metadata": {},
   "outputs": [
    {
     "name": "stdout",
     "output_type": "stream",
     "text": [
      "100 <class 'int'>\n",
      "100 <class 'str'>\n"
     ]
    }
   ],
   "source": [
    "num = 100\n",
    "print(num, type(num))\n",
    "print(str(num), type(str(num)))"
   ]
  },
  {
   "cell_type": "markdown",
   "id": "f24e92b3",
   "metadata": {},
   "source": [
    "# 문자열을 실수로 변환\n",
    "문자열 \"15.79\"를 실수(float) 타입으로 변환해보세요."
   ]
  },
  {
   "cell_type": "code",
   "execution_count": 38,
   "id": "e4889ffb",
   "metadata": {},
   "outputs": [
    {
     "name": "stdout",
     "output_type": "stream",
     "text": [
      "15.79 <class 'str'>\n",
      "15.79 <class 'float'>\n"
     ]
    }
   ],
   "source": [
    "a = \"15.79\"\n",
    "print(a, type(a))\n",
    "print(float(a), type(float(a)))"
   ]
  },
  {
   "cell_type": "markdown",
   "id": "81d11c88",
   "metadata": {},
   "source": [
    "# 문자열을 정수로 변환\n",
    "year라는 변수가 문자열 타입의 연도를 바인딩하고 있습니다. 이를 정수로 변환한 후 최근 3년의 연도를 화면에 출력해보세요."
   ]
  },
  {
   "cell_type": "code",
   "execution_count": 39,
   "id": "ccb01462",
   "metadata": {},
   "outputs": [
    {
     "name": "stdout",
     "output_type": "stream",
     "text": [
      "2020 2021 2022 2023\n"
     ]
    }
   ],
   "source": [
    "year = \"2020\"\n",
    "a = int(year)\n",
    "print(a, a+1, a+2, a+3)"
   ]
  },
  {
   "cell_type": "markdown",
   "id": "eb795a8d",
   "metadata": {},
   "source": [
    "# 파이썬 계산\n",
    "에이컨이 월 48,584원에 무이자 36개월의 조건으로 홈쇼핑에서 판매되고 있습니다. 총 금액은 계산한 후 이를 화면에 출력해보세요. (변수사용하기)"
   ]
  },
  {
   "cell_type": "code",
   "execution_count": 40,
   "id": "ee6ff1ae",
   "metadata": {},
   "outputs": [
    {
     "name": "stdout",
     "output_type": "stream",
     "text": [
      "1749024\n"
     ]
    }
   ],
   "source": [
    "에어컨 = 48584\n",
    "총금액 = 에어컨*36\n",
    "print(총금액)"
   ]
  },
  {
   "cell_type": "markdown",
   "id": "126860ec",
   "metadata": {},
   "source": [
    "# 문자열 인덱싱\n",
    "letters가 바인딩하는 문자열에서 첫번째와 세번째 문자를 출력하세요."
   ]
  },
  {
   "cell_type": "code",
   "execution_count": 42,
   "id": "19a903f2",
   "metadata": {},
   "outputs": [
    {
     "name": "stdout",
     "output_type": "stream",
     "text": [
      "p t\n"
     ]
    }
   ],
   "source": [
    "letters = 'python'\n",
    "print(letters[0], letters[2])"
   ]
  },
  {
   "cell_type": "markdown",
   "id": "9ebf5ae0",
   "metadata": {},
   "source": [
    "# 문자열 슬라이싱\n",
    "자동차 번호가 다음과 같을 때 뒤에 4자리만 출력하세요."
   ]
  },
  {
   "cell_type": "code",
   "execution_count": 43,
   "id": "81d35e9b",
   "metadata": {},
   "outputs": [
    {
     "name": "stdout",
     "output_type": "stream",
     "text": [
      "2210\n"
     ]
    }
   ],
   "source": [
    "license_plate = \"24가 2210\"\n",
    "print(license_plate[4:])"
   ]
  },
  {
   "cell_type": "markdown",
   "id": "7e51765f",
   "metadata": {},
   "source": [
    "# 문자열 인덱싱\n",
    "아래의 문자열에서 '홀' 만 출력하세요."
   ]
  },
  {
   "cell_type": "code",
   "execution_count": 45,
   "id": "e02dd4c8",
   "metadata": {},
   "outputs": [
    {
     "name": "stdout",
     "output_type": "stream",
     "text": [
      "홀홀홀\n"
     ]
    }
   ],
   "source": [
    "string = \"홀짝홀짝홀짝\"\n",
    "print(string[0]+string[2]+string[4])"
   ]
  },
  {
   "cell_type": "code",
   "execution_count": 47,
   "id": "3fe59793",
   "metadata": {},
   "outputs": [
    {
     "name": "stdout",
     "output_type": "stream",
     "text": [
      "홀홀홀\n"
     ]
    }
   ],
   "source": [
    "# 문제 정답\n",
    "# 슬라이싱할 때 `시작인덱스:끝인덱스:오프셋`을 지정할 수 있습니다.\n",
    "string = \"홀짝홀짝홀짝\"\n",
    "print(string[::2])"
   ]
  },
  {
   "cell_type": "markdown",
   "id": "1a267ff2",
   "metadata": {},
   "source": [
    "# 문자열 슬라이싱\n",
    "문자열을 거꾸로 뒤집어 출력하세요."
   ]
  },
  {
   "cell_type": "code",
   "execution_count": 51,
   "id": "e895acf2",
   "metadata": {},
   "outputs": [
    {
     "name": "stdout",
     "output_type": "stream",
     "text": [
      "NOHTYP\n"
     ]
    }
   ],
   "source": [
    "string = \"PYTHON\"\n",
    "print(string[::-1])"
   ]
  },
  {
   "cell_type": "markdown",
   "id": "b3cca2e5",
   "metadata": {},
   "source": [
    "# 문자열 치환\n",
    "아래의 전화번호에서 하이푼 ('-')을 제거하고 출력하세요."
   ]
  },
  {
   "cell_type": "code",
   "execution_count": 55,
   "id": "1b2fa6a4",
   "metadata": {},
   "outputs": [
    {
     "name": "stdout",
     "output_type": "stream",
     "text": [
      "010 1111 2222\n"
     ]
    }
   ],
   "source": [
    "phone_number = \"010-1111-2222\"\n",
    "a = phone_number.replace(\"-\", \" \")\n",
    "print(a)"
   ]
  },
  {
   "cell_type": "markdown",
   "id": "cd35193a",
   "metadata": {},
   "source": [
    "# 문자열 다루기\n",
    "25번 문제의 전화번호를 아래와 같이 모두 붙여 출력하세요."
   ]
  },
  {
   "cell_type": "code",
   "execution_count": 58,
   "id": "29fa1620",
   "metadata": {},
   "outputs": [
    {
     "name": "stdout",
     "output_type": "stream",
     "text": [
      "01011112222\n"
     ]
    }
   ],
   "source": [
    "b = phone_number.replace(\"-\", \"\")\n",
    "print(b)"
   ]
  },
  {
   "cell_type": "markdown",
   "id": "cc89bba3",
   "metadata": {},
   "source": [
    "# 문자열 다루기\n",
    "url 에 저장된 웹 페이지 주소에서 도메인을 출력하세요."
   ]
  },
  {
   "cell_type": "code",
   "execution_count": 62,
   "id": "884739bc",
   "metadata": {},
   "outputs": [
    {
     "name": "stdout",
     "output_type": "stream",
     "text": [
      "kr\n"
     ]
    }
   ],
   "source": [
    "url = \"http://sharebook.kr\"\n",
    "print(url[-2:])"
   ]
  },
  {
   "cell_type": "code",
   "execution_count": 63,
   "id": "e5b7a962",
   "metadata": {},
   "outputs": [
    {
     "name": "stdout",
     "output_type": "stream",
     "text": [
      "kr\n"
     ]
    }
   ],
   "source": [
    "# 문제 정답\n",
    "url_split = url.split('.')\n",
    "print(url_split[-1])"
   ]
  },
  {
   "cell_type": "markdown",
   "id": "4de9bfb2",
   "metadata": {},
   "source": [
    "# 문자열은 immutable\n",
    "아래 코드의 실행 결과를 예상해보세요."
   ]
  },
  {
   "cell_type": "code",
   "execution_count": 64,
   "id": "818c2a6f",
   "metadata": {},
   "outputs": [
    {
     "ename": "TypeError",
     "evalue": "'str' object does not support item assignment",
     "output_type": "error",
     "traceback": [
      "\u001b[1;31m---------------------------------------------------------------------------\u001b[0m",
      "\u001b[1;31mTypeError\u001b[0m                                 Traceback (most recent call last)",
      "Cell \u001b[1;32mIn[64], line 2\u001b[0m\n\u001b[0;32m      1\u001b[0m lang \u001b[38;5;241m=\u001b[39m \u001b[38;5;124m'\u001b[39m\u001b[38;5;124mpython\u001b[39m\u001b[38;5;124m'\u001b[39m\n\u001b[1;32m----> 2\u001b[0m lang[\u001b[38;5;241m0\u001b[39m] \u001b[38;5;241m=\u001b[39m \u001b[38;5;124m'\u001b[39m\u001b[38;5;124mP\u001b[39m\u001b[38;5;124m'\u001b[39m\n\u001b[0;32m      3\u001b[0m \u001b[38;5;28mprint\u001b[39m(lang)\n",
      "\u001b[1;31mTypeError\u001b[0m: 'str' object does not support item assignment"
     ]
    }
   ],
   "source": [
    "lang = 'python'\n",
    "lang[0] = 'P'\n",
    "print(lang)\n",
    "# Python X -> 문자열은 수정할 수가 없습니다!"
   ]
  },
  {
   "cell_type": "markdown",
   "id": "1ebfe906",
   "metadata": {},
   "source": [
    "# replace 메서드\n",
    "아래 문자열에서 소문자 'a'를 대문자 'A'로 변경하세요."
   ]
  },
  {
   "cell_type": "code",
   "execution_count": 66,
   "id": "7e24a19c",
   "metadata": {},
   "outputs": [
    {
     "name": "stdout",
     "output_type": "stream",
     "text": [
      "Abcdfe2A354A32A\n"
     ]
    }
   ],
   "source": [
    "string = 'abcdfe2a354a32a'\n",
    "string.replace('a', 'A')\n",
    "print(string.replace('a', 'A'))"
   ]
  },
  {
   "cell_type": "markdown",
   "id": "bf955a51",
   "metadata": {},
   "source": [
    "# replace 메서드\n",
    "아래 코드의 실행 결과를 예상해보세요."
   ]
  },
  {
   "cell_type": "code",
   "execution_count": 67,
   "id": "2e5841f2",
   "metadata": {},
   "outputs": [
    {
     "name": "stdout",
     "output_type": "stream",
     "text": [
      "abcd\n"
     ]
    }
   ],
   "source": [
    "string = 'abcd'\n",
    "string.replace('b', 'B')\n",
    "print(string)\n",
    "#aBcd"
   ]
  },
  {
   "cell_type": "markdown",
   "id": "89c7189b",
   "metadata": {},
   "source": [
    "# 문자열 합치기\n",
    "아래 코드의 실행 결과를 예상해보세요."
   ]
  },
  {
   "cell_type": "code",
   "execution_count": 68,
   "id": "bf7fe833",
   "metadata": {},
   "outputs": [
    {
     "name": "stdout",
     "output_type": "stream",
     "text": [
      "34\n"
     ]
    }
   ],
   "source": [
    "a = \"3\"\n",
    "b = \"4\"\n",
    "print(a + b)\n",
    "#34"
   ]
  },
  {
   "cell_type": "markdown",
   "id": "e6382fe8",
   "metadata": {},
   "source": [
    "# 문자열 곱하기\n",
    "아래 코드의 실행 결과를 예상해보세요."
   ]
  },
  {
   "cell_type": "code",
   "execution_count": 70,
   "id": "48dead89",
   "metadata": {},
   "outputs": [
    {
     "name": "stdout",
     "output_type": "stream",
     "text": [
      "HiHiHi\n"
     ]
    }
   ],
   "source": [
    "print(\"Hi\" * 3)\n",
    "#HiHiHi"
   ]
  },
  {
   "cell_type": "markdown",
   "id": "cea9da50",
   "metadata": {},
   "source": [
    "# 문자열 곱하기\n",
    "화면에 '-'를 80개 출력하세요."
   ]
  },
  {
   "cell_type": "code",
   "execution_count": 71,
   "id": "a5b5cc14",
   "metadata": {},
   "outputs": [
    {
     "name": "stdout",
     "output_type": "stream",
     "text": [
      "--------------------------------------------------------------------------------\n"
     ]
    }
   ],
   "source": [
    "print('-'*80)"
   ]
  },
  {
   "cell_type": "markdown",
   "id": "5fe85d0e",
   "metadata": {},
   "source": [
    "# 문자열 곱하기\n",
    "변수에 다음과 같은 문자열이 바인딩되어 있습니다."
   ]
  },
  {
   "cell_type": "code",
   "execution_count": 87,
   "id": "d44d256e",
   "metadata": {},
   "outputs": [],
   "source": [
    "t1 = 'python'\n",
    "t2 = 'java'\n",
    "# 실행 예: python java python java python java python java\n",
    "t3 = (t1, t2)"
   ]
  },
  {
   "cell_type": "code",
   "execution_count": 88,
   "id": "faa19615",
   "metadata": {},
   "outputs": [
    {
     "name": "stdout",
     "output_type": "stream",
     "text": [
      "python java python java python java python java \n"
     ]
    }
   ],
   "source": [
    "# 문제 정답\n",
    "t3 = t1 + ' ' + t2 + ' '\n",
    "print(t3 * 4)"
   ]
  },
  {
   "cell_type": "markdown",
   "id": "66ada595",
   "metadata": {},
   "source": [
    "# 문자열 출력\n",
    "변수에 다음과 같이 문자열과 정수가 바인딩되어 있을 때 % formatting을 사용해서 다음과 같이 출력해보세요."
   ]
  },
  {
   "cell_type": "code",
   "execution_count": 89,
   "id": "8355a401",
   "metadata": {},
   "outputs": [],
   "source": [
    "name1 = \"김민수\" \n",
    "age1 = 10\n",
    "name2 = \"이철희\"\n",
    "age2 = 13"
   ]
  },
  {
   "cell_type": "code",
   "execution_count": 94,
   "id": "44b76277",
   "metadata": {},
   "outputs": [
    {
     "name": "stdout",
     "output_type": "stream",
     "text": [
      "이름: 김민수 나이: 10\n",
      "이름: 이철희 나이: 13\n"
     ]
    }
   ],
   "source": [
    "print(f'이름: {name1} 나이: {age1}')\n",
    "print(f'이름: {name2} 나이: {age2}')"
   ]
  },
  {
   "cell_type": "code",
   "execution_count": 95,
   "id": "17fafa29",
   "metadata": {},
   "outputs": [
    {
     "name": "stdout",
     "output_type": "stream",
     "text": [
      "이름: 김민수 나이: 10\n",
      "이름: 이철희 나이: 13\n"
     ]
    }
   ],
   "source": [
    "# 문제 정답\n",
    "print(\"이름: %s 나이: %d\" % (name1, age1))\n",
    "print(\"이름: %s 나이: %d\" % (name2, age2))"
   ]
  },
  {
   "cell_type": "markdown",
   "id": "d795394e",
   "metadata": {},
   "source": [
    "# 문자열 출력\n",
    "문자열의 format( ) 메서드를 사용해서 035번 문제를 다시 풀어보세요."
   ]
  },
  {
   "cell_type": "code",
   "execution_count": 96,
   "id": "e8e6910b",
   "metadata": {},
   "outputs": [
    {
     "name": "stdout",
     "output_type": "stream",
     "text": [
      "이름: 김민수 나이: 10\n",
      "이름: 이철희 나이: 13\n"
     ]
    }
   ],
   "source": [
    "name1 = \"김민수\" \n",
    "age1 = 10\n",
    "name2 = \"이철희\"\n",
    "age2 = 13\n",
    "print(\"이름: {0} 나이: {1}\".format(name1, age1))\n",
    "print(\"이름: {0} 나이: {1}\".format(name2, age2))"
   ]
  },
  {
   "cell_type": "markdown",
   "id": "b8fca3c0",
   "metadata": {},
   "source": [
    "# 문자열 출력\n",
    "파이썬 3.6부터 지원하는 f-string을 사용해서 035번 문제를 다시 풀어보세요."
   ]
  },
  {
   "cell_type": "code",
   "execution_count": 97,
   "id": "6a9ad956",
   "metadata": {},
   "outputs": [
    {
     "name": "stdout",
     "output_type": "stream",
     "text": [
      "이름: 김민수 나이: 10\n",
      "이름: 이철희 나이: 13\n"
     ]
    }
   ],
   "source": [
    "print(f'이름: {name1} 나이: {age1}')\n",
    "print(f'이름: {name2} 나이: {age2}')"
   ]
  },
  {
   "cell_type": "markdown",
   "id": "6f46c241",
   "metadata": {},
   "source": [
    "# 컴마 제거하기\n",
    "삼성전자의 상장주식수가 다음과 같습니다. 컴마를 제거한 후 이를 정수 타입으로 변환해보세요."
   ]
  },
  {
   "cell_type": "code",
   "execution_count": 99,
   "id": "fec55256",
   "metadata": {},
   "outputs": [
    {
     "name": "stdout",
     "output_type": "stream",
     "text": [
      "5969782550 <class 'int'>\n"
     ]
    }
   ],
   "source": [
    "상장주식수 = \"5,969,782,550\"\n",
    "a = 상장주식수.replace(\",\", \"\")\n",
    "print(int(a),type(int(a)))"
   ]
  },
  {
   "cell_type": "markdown",
   "id": "5c37548c",
   "metadata": {},
   "source": [
    "# 문자열 슬라이싱\n",
    "다음과 같은 문자열에서 '2020/03'만 출력하세요."
   ]
  },
  {
   "cell_type": "code",
   "execution_count": 102,
   "id": "a52f2b3b",
   "metadata": {},
   "outputs": [
    {
     "name": "stdout",
     "output_type": "stream",
     "text": [
      "2020/03\n"
     ]
    }
   ],
   "source": [
    "분기 = \"2020/03(E) (IFRS연결)\"\n",
    "print(분기[0:7])"
   ]
  },
  {
   "cell_type": "markdown",
   "id": "19c73b7b",
   "metadata": {},
   "source": [
    "# strip 메서드\n",
    "문자열의 좌우의 공백이 있을 때 이를 제거해보세요."
   ]
  },
  {
   "cell_type": "code",
   "execution_count": 104,
   "id": "a3ef09af",
   "metadata": {},
   "outputs": [
    {
     "name": "stdout",
     "output_type": "stream",
     "text": [
      "삼성전자\n"
     ]
    }
   ],
   "source": [
    "data = \"   삼성전자    \"\n",
    "print(data.strip())"
   ]
  },
  {
   "cell_type": "code",
   "execution_count": null,
   "id": "73a0000d",
   "metadata": {},
   "outputs": [],
   "source": []
  },
  {
   "cell_type": "code",
   "execution_count": null,
   "id": "08a9b688",
   "metadata": {},
   "outputs": [],
   "source": []
  },
  {
   "cell_type": "code",
   "execution_count": null,
   "id": "9a318269",
   "metadata": {},
   "outputs": [],
   "source": []
  },
  {
   "cell_type": "code",
   "execution_count": null,
   "id": "04d1af6e",
   "metadata": {},
   "outputs": [],
   "source": []
  }
 ],
 "metadata": {
  "kernelspec": {
   "display_name": "Python 3 (ipykernel)",
   "language": "python",
   "name": "python3"
  },
  "language_info": {
   "codemirror_mode": {
    "name": "ipython",
    "version": 3
   },
   "file_extension": ".py",
   "mimetype": "text/x-python",
   "name": "python",
   "nbconvert_exporter": "python",
   "pygments_lexer": "ipython3",
   "version": "3.11.5"
  },
  "toc": {
   "base_numbering": 1,
   "nav_menu": {},
   "number_sections": true,
   "sideBar": true,
   "skip_h1_title": false,
   "title_cell": "Table of Contents",
   "title_sidebar": "Contents",
   "toc_cell": false,
   "toc_position": {},
   "toc_section_display": true,
   "toc_window_display": false
  }
 },
 "nbformat": 4,
 "nbformat_minor": 5
}
