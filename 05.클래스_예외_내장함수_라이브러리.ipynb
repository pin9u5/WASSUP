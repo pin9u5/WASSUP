{
 "cells": [
  {
   "cell_type": "code",
   "execution_count": 1,
   "id": "45d7e31a",
   "metadata": {},
   "outputs": [
    {
     "name": "stdout",
     "output_type": "stream",
     "text": [
      "3\n",
      "7\n"
     ]
    }
   ],
   "source": [
    "# calculator.py\n",
    "result = 0 # 창고로 쓰기 위해 만들어둠\n",
    "\n",
    "def add(num):\n",
    "    global result #함수는 지역함수\n",
    "    result += num  # 결괏값(result)에 입력값(num) 더하기\n",
    "    return result  # 결괏값 리턴\n",
    "\n",
    "print(add(3)) #이 때 rssult가 3으로 저장\n",
    "print(add(4)) # 3으로 저장된 result 값에 4를 추가하여 7로 출력"
   ]
  },
  {
   "cell_type": "code",
   "execution_count": 2,
   "id": "6fb4ab48",
   "metadata": {},
   "outputs": [
    {
     "name": "stdout",
     "output_type": "stream",
     "text": [
      "3\n",
      "7\n",
      "3\n",
      "10\n"
     ]
    }
   ],
   "source": [
    "# calculator2.py\n",
    "result1 = 0\n",
    "result2 = 0\n",
    "\n",
    "def add1(num):  # 계산기1\n",
    "    global result1\n",
    "    result1 += num\n",
    "    return result1\n",
    "\n",
    "def add2(num):  # 계산기2\n",
    "    global result2\n",
    "    result2 += num\n",
    "    return result2\n",
    "\n",
    "print(add1(3))\n",
    "print(add1(4))\n",
    "print(add2(3))\n",
    "print(add2(7))\n"
   ]
  },
  {
   "cell_type": "code",
   "execution_count": 3,
   "id": "898c0588",
   "metadata": {},
   "outputs": [
    {
     "name": "stdout",
     "output_type": "stream",
     "text": [
      "3\n",
      "7\n",
      "3\n",
      "10\n"
     ]
    }
   ],
   "source": [
    "# calculator3.py\n",
    "class Calculator:\n",
    "    def __init__(self):\n",
    "        self.result = 0\n",
    "\n",
    "    def add(self, num):\n",
    "        self.result += num\n",
    "        return self.result\n",
    "\n",
    "cal1 = Calculator() #객체\n",
    "cal2 = Calculator() #객체\n",
    "\n",
    "print(cal1.add(3)) #객체에 add를 사용하겠다.\n",
    "print(cal1.add(4))\n",
    "print(cal2.add(3))\n",
    "print(cal2.add(7))"
   ]
  },
  {
   "cell_type": "code",
   "execution_count": 5,
   "id": "aa24c70f",
   "metadata": {},
   "outputs": [],
   "source": [
    "class Calculator:\n",
    "    def __init__(self): #초기화\n",
    "        self.result = 0\n",
    "\n",
    "    def add(self, num): #매써드 method\n",
    "        self.result += num\n",
    "        return self.result\n",
    "\n",
    "    def sub(self, num): #매써드 method\n",
    "        self.result -= num\n",
    "        return self.result"
   ]
  },
  {
   "cell_type": "code",
   "execution_count": 6,
   "id": "556ab149",
   "metadata": {},
   "outputs": [],
   "source": [
    "class Cookie: #클래스 시작은 무조건 대문자!\n",
    "    pass"
   ]
  },
  {
   "cell_type": "code",
   "execution_count": 7,
   "id": "38faa656",
   "metadata": {},
   "outputs": [],
   "source": [
    "a = Cookie()\n",
    "b = Cookie()"
   ]
  },
  {
   "cell_type": "code",
   "execution_count": 8,
   "id": "8510acd0",
   "metadata": {},
   "outputs": [],
   "source": [
    "class FourCal:\n",
    "    pass"
   ]
  },
  {
   "cell_type": "code",
   "execution_count": 9,
   "id": "ee842959",
   "metadata": {},
   "outputs": [
    {
     "data": {
      "text/plain": [
       "__main__.FourCal"
      ]
     },
     "execution_count": 9,
     "metadata": {},
     "output_type": "execute_result"
    }
   ],
   "source": [
    "a = FourCal()\n",
    "type(a)"
   ]
  },
  {
   "cell_type": "code",
   "execution_count": 10,
   "id": "7cf803d1",
   "metadata": {},
   "outputs": [
    {
     "ename": "AttributeError",
     "evalue": "'FourCal' object has no attribute 'setdata'",
     "output_type": "error",
     "traceback": [
      "\u001b[1;31m---------------------------------------------------------------------------\u001b[0m",
      "\u001b[1;31mAttributeError\u001b[0m                            Traceback (most recent call last)",
      "Cell \u001b[1;32mIn[10], line 1\u001b[0m\n\u001b[1;32m----> 1\u001b[0m a\u001b[38;5;241m.\u001b[39msetdata(\u001b[38;5;241m4\u001b[39m, \u001b[38;5;241m2\u001b[39m)\n",
      "\u001b[1;31mAttributeError\u001b[0m: 'FourCal' object has no attribute 'setdata'"
     ]
    }
   ],
   "source": [
    "a.setdata(4, 2)"
   ]
  },
  {
   "cell_type": "code",
   "execution_count": 15,
   "id": "2ef6b129",
   "metadata": {},
   "outputs": [],
   "source": [
    "class FourCal:\n",
    "    def setdata(self, first, second): #메서드의 매개변수\n",
    "        self.first = first # 메서드의 수행문\n",
    "        self.second = second # 메서드의 수행문"
   ]
  },
  {
   "cell_type": "code",
   "execution_count": 16,
   "id": "794b34dc",
   "metadata": {},
   "outputs": [],
   "source": [
    "a = FourCal()\n",
    "a.setdata(4, 2)"
   ]
  },
  {
   "cell_type": "code",
   "execution_count": 23,
   "id": "977d0076",
   "metadata": {},
   "outputs": [
    {
     "data": {
      "text/plain": [
       "4"
      ]
     },
     "execution_count": 23,
     "metadata": {},
     "output_type": "execute_result"
    }
   ],
   "source": [
    "a.first"
   ]
  },
  {
   "cell_type": "code",
   "execution_count": 24,
   "id": "dc4a0099",
   "metadata": {},
   "outputs": [
    {
     "data": {
      "text/plain": [
       "2"
      ]
     },
     "execution_count": 24,
     "metadata": {},
     "output_type": "execute_result"
    }
   ],
   "source": [
    "a.second"
   ]
  },
  {
   "cell_type": "code",
   "execution_count": 25,
   "id": "5cee0bc4",
   "metadata": {},
   "outputs": [],
   "source": [
    "a = FourCal()\n",
    "b = FourCal()"
   ]
  },
  {
   "cell_type": "code",
   "execution_count": 26,
   "id": "49e9f066",
   "metadata": {},
   "outputs": [
    {
     "data": {
      "text/plain": [
       "4"
      ]
     },
     "execution_count": 26,
     "metadata": {},
     "output_type": "execute_result"
    }
   ],
   "source": [
    "a.setdata(4, 2)\n",
    "a.first"
   ]
  },
  {
   "cell_type": "code",
   "execution_count": 27,
   "id": "5baf3ef7",
   "metadata": {},
   "outputs": [
    {
     "data": {
      "text/plain": [
       "3"
      ]
     },
     "execution_count": 27,
     "metadata": {},
     "output_type": "execute_result"
    }
   ],
   "source": [
    "b.setdata(3, 7)\n",
    "b.first"
   ]
  },
  {
   "cell_type": "markdown",
   "id": "e96d1f9d",
   "metadata": {},
   "source": [
    "# 더하기 기능 만들기"
   ]
  },
  {
   "cell_type": "code",
   "execution_count": 28,
   "id": "534c4d7c",
   "metadata": {},
   "outputs": [],
   "source": [
    "class FourCal:\n",
    "    def setdata(self, first, second):\n",
    "        self.first = first\n",
    "        self.second = second\n",
    "    def add(self):\n",
    "        result = self.first + self.second\n",
    "        return result"
   ]
  },
  {
   "cell_type": "code",
   "execution_count": 30,
   "id": "872e6369",
   "metadata": {},
   "outputs": [],
   "source": [
    "a = FourCal()\n",
    "a.setdata(4, 2)"
   ]
  },
  {
   "cell_type": "code",
   "execution_count": 31,
   "id": "15b0a20f",
   "metadata": {},
   "outputs": [
    {
     "data": {
      "text/plain": [
       "6"
      ]
     },
     "execution_count": 31,
     "metadata": {},
     "output_type": "execute_result"
    }
   ],
   "source": [
    "a.add()"
   ]
  },
  {
   "cell_type": "code",
   "execution_count": 38,
   "id": "e1b9ae48",
   "metadata": {},
   "outputs": [],
   "source": [
    ">>> class FourCal:\n",
    "...     def setdata(self, first, second):\n",
    "...         self.first = first\n",
    "...         self.second = second\n",
    "...     def add(self):\n",
    "...         result = self.first + self.second\n",
    "...         return result\n",
    "...     def mul(self):\n",
    "...         result = self.first * self.second\n",
    "...         return result\n",
    "...     def sub(self):\n",
    "...         result = self.first - self.second\n",
    "...         return result\n",
    "...     def div(self):\n",
    "...         result = self.first / self.second\n",
    "...         return result\n"
   ]
  },
  {
   "cell_type": "code",
   "execution_count": 41,
   "id": "945de040",
   "metadata": {},
   "outputs": [
    {
     "data": {
      "text/plain": [
       "6"
      ]
     },
     "execution_count": 41,
     "metadata": {},
     "output_type": "execute_result"
    }
   ],
   "source": [
    "a = FourCal()\n",
    "b = FourCal()\n",
    "a.setdata(4, 2)\n",
    "b.setdata(3, 8)\n",
    "a.add()"
   ]
  },
  {
   "cell_type": "code",
   "execution_count": 42,
   "id": "4cf8839d",
   "metadata": {},
   "outputs": [
    {
     "data": {
      "text/plain": [
       "8"
      ]
     },
     "execution_count": 42,
     "metadata": {},
     "output_type": "execute_result"
    }
   ],
   "source": [
    "a.mul()"
   ]
  },
  {
   "cell_type": "code",
   "execution_count": 43,
   "id": "5ca23b0b",
   "metadata": {},
   "outputs": [
    {
     "data": {
      "text/plain": [
       "2"
      ]
     },
     "execution_count": 43,
     "metadata": {},
     "output_type": "execute_result"
    }
   ],
   "source": [
    "a.sub()"
   ]
  },
  {
   "cell_type": "code",
   "execution_count": 44,
   "id": "257b7cc4",
   "metadata": {},
   "outputs": [
    {
     "data": {
      "text/plain": [
       "2.0"
      ]
     },
     "execution_count": 44,
     "metadata": {},
     "output_type": "execute_result"
    }
   ],
   "source": [
    "a.div()"
   ]
  },
  {
   "cell_type": "markdown",
   "id": "c2684aa7",
   "metadata": {},
   "source": [
    "## 생성자"
   ]
  },
  {
   "cell_type": "code",
   "execution_count": 5,
   "id": "ca996d75",
   "metadata": {},
   "outputs": [],
   "source": [
    ">>> class FourCal:\n",
    "...     def __init__(self, first, second): #객체가 생성될 때 자동으로 호출되는 메서드를 의미 / 항상 기본값으로 불러온다\n",
    "...         self.first = first\n",
    "...         self.second = second\n",
    "...     def setdata(self, first, second):\n",
    "...         self.first = first\n",
    "...         self.second = second\n",
    "...     def add(self):\n",
    "...         result = self.first + self.second\n",
    "...         return result\n",
    "...     def mul(self):\n",
    "...         result = self.first * self.second\n",
    "...         return result\n",
    "...     def sub(self):\n",
    "...         result = self.first - self.second\n",
    "...         return result\n",
    "...     def div(self):\n",
    "...         result = self.first / self.second\n",
    "...         return result"
   ]
  },
  {
   "cell_type": "code",
   "execution_count": 46,
   "id": "28f28757",
   "metadata": {},
   "outputs": [
    {
     "ename": "TypeError",
     "evalue": "FourCal.__init__() missing 2 required positional arguments: 'first' and 'second'",
     "output_type": "error",
     "traceback": [
      "\u001b[1;31m---------------------------------------------------------------------------\u001b[0m",
      "\u001b[1;31mTypeError\u001b[0m                                 Traceback (most recent call last)",
      "Cell \u001b[1;32mIn[46], line 1\u001b[0m\n\u001b[1;32m----> 1\u001b[0m a \u001b[38;5;241m=\u001b[39m FourCal()\n",
      "\u001b[1;31mTypeError\u001b[0m: FourCal.__init__() missing 2 required positional arguments: 'first' and 'second'"
     ]
    }
   ],
   "source": [
    "a = FourCal()"
   ]
  },
  {
   "cell_type": "code",
   "execution_count": 6,
   "id": "3a692c32",
   "metadata": {},
   "outputs": [],
   "source": [
    "a = FourCal(4, 2)"
   ]
  },
  {
   "cell_type": "code",
   "execution_count": 48,
   "id": "7b1e4937",
   "metadata": {},
   "outputs": [
    {
     "data": {
      "text/plain": [
       "<__main__.FourCal at 0x1dd636a7ed0>"
      ]
     },
     "execution_count": 48,
     "metadata": {},
     "output_type": "execute_result"
    }
   ],
   "source": [
    "a # at 뒤에 붙은건 값 메모리"
   ]
  },
  {
   "cell_type": "code",
   "execution_count": 7,
   "id": "2910d3ca",
   "metadata": {},
   "outputs": [
    {
     "name": "stdout",
     "output_type": "stream",
     "text": [
      "4 2\n"
     ]
    }
   ],
   "source": [
    "print(a.first, a.second)"
   ]
  },
  {
   "cell_type": "code",
   "execution_count": 8,
   "id": "ce70fee9",
   "metadata": {},
   "outputs": [
    {
     "name": "stdout",
     "output_type": "stream",
     "text": [
      "6 2.0\n"
     ]
    }
   ],
   "source": [
    "print(a.add(), a.div())"
   ]
  },
  {
   "cell_type": "markdown",
   "id": "cc00e4e8",
   "metadata": {},
   "source": [
    "### 예제) 은행 예금출금 클래스를 만들어보자\n",
    "input : 계좌번호, 계좌소유자명, 잔액\n",
    "기능1 : 입금\n",
    "기능2 : 출금\n",
    "기능3 : 조회"
   ]
  },
  {
   "cell_type": "code",
   "execution_count": null,
   "id": "34fb9e2d",
   "metadata": {},
   "outputs": [],
   "source": [
    "class Bank:\n",
    "    def __init__(self, first, second):\n",
    "        self.first = first\n",
    "        self.second = second\n",
    "    def setdata(self, first, second):\n",
    "        "
   ]
  },
  {
   "cell_type": "code",
   "execution_count": 3,
   "id": "cbc39558",
   "metadata": {},
   "outputs": [],
   "source": [
    "class Account:\n",
    "    company = '한국은행' #클래스 변수\n",
    "    \n",
    "    def __init__(self, no, name):\n",
    "        self.no = no\n",
    "        self.name = name\n",
    "        self.balance = 0\n",
    "        \n",
    "    def deposit(self, money):\n",
    "        self.balance += money\n",
    "    \n",
    "    def withdraw(self, money):\n",
    "        self.balance -= money\n",
    "        \n",
    "    def __str__(self):\n",
    "        return f'계좌번호: {self.no}, 계좌소유자: {self.name}, 잔액: {self.balance}'"
   ]
  },
  {
   "cell_type": "code",
   "execution_count": 4,
   "id": "af526185",
   "metadata": {},
   "outputs": [
    {
     "name": "stdout",
     "output_type": "stream",
     "text": [
      "계좌번호: 567, 계좌소유자: hong, 잔액: 0\n"
     ]
    }
   ],
   "source": [
    "a1 = Account(567, 'hong')\n",
    "print(a1)"
   ]
  },
  {
   "cell_type": "code",
   "execution_count": 1,
   "id": "7ac9e919",
   "metadata": {},
   "outputs": [
    {
     "name": "stdout",
     "output_type": "stream",
     "text": [
      "입력된 값 :  (350, 4, 2, 2, 4, 2, 3, 23, 12, 32, 3)\n",
      "값의 합 :  437\n",
      "값의 차 :  263\n",
      "입력된 값 :  (350, 4, 2)\n",
      "값의 곱 :  2800\n",
      "값의 평균 :  118.66666666666667\n",
      "값의 나눗셈 :  43.75\n"
     ]
    }
   ],
   "source": [
    "class F_cal:\n",
    "    def setdata(self, *args):\n",
    "        self.args = args\n",
    "\n",
    "    def add(self):\n",
    "        result = sum(self.args)\n",
    "        return result\n",
    "    \n",
    "    def sub(self):\n",
    "        result = self.args[0] # result의 초기값 설정\n",
    "        for i in self.args[1:]:\n",
    "            result -= i\n",
    "        return result\n",
    "    \n",
    "    def mul(self):\n",
    "        result = self.args[0]\n",
    "        for i in self.args[1:]:\n",
    "            result = result * i\n",
    "        return result\n",
    "\n",
    "    def avg(self):\n",
    "        result = sum(self.args) / len(self.args)\n",
    "        return result\n",
    "    \n",
    "    def div(self):\n",
    "        result = self.args[0]\n",
    "        for i in self.args[1:]:\n",
    "            result = result / i\n",
    "        return result\n",
    "\n",
    "    \n",
    "\n",
    "cal_f = F_cal()\n",
    "\n",
    "cal_f.setdata(350,4,2,2,4,2,3,23,12,32,3)\n",
    "print('입력된 값 : ', cal_f.args)\n",
    "print('값의 합 : ', cal_f.add())\n",
    "print('값의 차 : ', cal_f.sub())\n",
    "cal_f.setdata(350,4,2)\n",
    "print('입력된 값 : ', cal_f.args)\n",
    "print('값의 곱 : ', cal_f.mul())\n",
    "print('값의 평균 : ', cal_f.avg())\n",
    "print('값의 나눗셈 : ', cal_f.div())"
   ]
  },
  {
   "cell_type": "code",
   "execution_count": 2,
   "id": "33cd43a4",
   "metadata": {},
   "outputs": [
    {
     "data": {
      "text/plain": [
       "(34, 532, 43, 453, 32, 34, 34, 34)"
      ]
     },
     "execution_count": 2,
     "metadata": {},
     "output_type": "execute_result"
    }
   ],
   "source": [
    "class Second_cal(F_cal): #위에 클래스를 그대로 사용하겠다.\n",
    "    def __init__(self, *args):\n",
    "        self.args = args\n",
    "\n",
    "cal_f = Second_cal(34,532,43,453,32,34,34,34)\n",
    "cal_f.args"
   ]
  },
  {
   "cell_type": "markdown",
   "id": "1d39e485",
   "metadata": {},
   "source": [
    "## 클래스의 상속"
   ]
  },
  {
   "cell_type": "code",
   "execution_count": 9,
   "id": "57dcdd93",
   "metadata": {},
   "outputs": [],
   "source": [
    "class MoreFourCal(FourCal):\n",
    "    pass"
   ]
  },
  {
   "cell_type": "code",
   "execution_count": 11,
   "id": "21ae3f9e",
   "metadata": {},
   "outputs": [
    {
     "name": "stdout",
     "output_type": "stream",
     "text": [
      "6 8 2 2.0\n"
     ]
    }
   ],
   "source": [
    "a = MoreFourCal(4, 2)\n",
    "print(a.add(), a.mul(), a.sub(), a.div())"
   ]
  },
  {
   "cell_type": "code",
   "execution_count": 12,
   "id": "053369bc",
   "metadata": {},
   "outputs": [],
   "source": [
    "class MoreFourCal(FourCal):\n",
    "    def pow(self):\n",
    "        result = self.first ** self.second\n",
    "        return result"
   ]
  },
  {
   "cell_type": "markdown",
   "id": "9e7729bc",
   "metadata": {},
   "source": [
    "## 메서드 오버라이딩"
   ]
  },
  {
   "cell_type": "code",
   "execution_count": 13,
   "id": "f94ccbe8",
   "metadata": {},
   "outputs": [
    {
     "ename": "ZeroDivisionError",
     "evalue": "division by zero",
     "output_type": "error",
     "traceback": [
      "\u001b[1;31m---------------------------------------------------------------------------\u001b[0m",
      "\u001b[1;31mZeroDivisionError\u001b[0m                         Traceback (most recent call last)",
      "Cell \u001b[1;32mIn[13], line 2\u001b[0m\n\u001b[0;32m      1\u001b[0m a \u001b[38;5;241m=\u001b[39m FourCal(\u001b[38;5;241m4\u001b[39m, \u001b[38;5;241m0\u001b[39m)\n\u001b[1;32m----> 2\u001b[0m a\u001b[38;5;241m.\u001b[39mdiv()\n",
      "Cell \u001b[1;32mIn[5], line 18\u001b[0m, in \u001b[0;36mFourCal.div\u001b[1;34m(self)\u001b[0m\n\u001b[0;32m     17\u001b[0m \u001b[38;5;28;01mdef\u001b[39;00m \u001b[38;5;21mdiv\u001b[39m(\u001b[38;5;28mself\u001b[39m):\n\u001b[1;32m---> 18\u001b[0m     result \u001b[38;5;241m=\u001b[39m \u001b[38;5;28mself\u001b[39m\u001b[38;5;241m.\u001b[39mfirst \u001b[38;5;241m/\u001b[39m \u001b[38;5;28mself\u001b[39m\u001b[38;5;241m.\u001b[39msecond\n\u001b[0;32m     19\u001b[0m     \u001b[38;5;28;01mreturn\u001b[39;00m result\n",
      "\u001b[1;31mZeroDivisionError\u001b[0m: division by zero"
     ]
    }
   ],
   "source": [
    "a = FourCal(4, 0)\n",
    "a.div()"
   ]
  },
  {
   "cell_type": "code",
   "execution_count": 14,
   "id": "95d7c7a5",
   "metadata": {},
   "outputs": [],
   "source": [
    "# 0으로 나눌 때 오류가 아닌 값 0을 리턴받고 싶다!\n",
    "class SafeFourCal(FourCal):\n",
    "    def div(self):\n",
    "        if self.second == 0:\n",
    "            return 0\n",
    "        else:\n",
    "            return self.first / self.second"
   ]
  },
  {
   "cell_type": "code",
   "execution_count": 15,
   "id": "7e38da75",
   "metadata": {},
   "outputs": [
    {
     "data": {
      "text/plain": [
       "0"
      ]
     },
     "execution_count": 15,
     "metadata": {},
     "output_type": "execute_result"
    }
   ],
   "source": [
    "a = SafeFourCal(4, 0)\n",
    "a.div()"
   ]
  },
  {
   "cell_type": "markdown",
   "id": "6e761f99",
   "metadata": {},
   "source": [
    "## 클래스변수"
   ]
  },
  {
   "cell_type": "code",
   "execution_count": 16,
   "id": "ab51ab8b",
   "metadata": {},
   "outputs": [],
   "source": [
    "class Family:\n",
    "    lastname = \"김\""
   ]
  },
  {
   "cell_type": "code",
   "execution_count": 17,
   "id": "2f3df5f6",
   "metadata": {},
   "outputs": [
    {
     "data": {
      "text/plain": [
       "'김'"
      ]
     },
     "execution_count": 17,
     "metadata": {},
     "output_type": "execute_result"
    }
   ],
   "source": [
    "Family.lastname"
   ]
  },
  {
   "cell_type": "code",
   "execution_count": 18,
   "id": "1ac9361f",
   "metadata": {},
   "outputs": [],
   "source": [
    "a = Family()\n",
    "b = Family()"
   ]
  },
  {
   "cell_type": "code",
   "execution_count": 19,
   "id": "6306288b",
   "metadata": {},
   "outputs": [
    {
     "data": {
      "text/plain": [
       "'김'"
      ]
     },
     "execution_count": 19,
     "metadata": {},
     "output_type": "execute_result"
    }
   ],
   "source": [
    "a.lastname"
   ]
  },
  {
   "cell_type": "code",
   "execution_count": 20,
   "id": "41890afc",
   "metadata": {},
   "outputs": [
    {
     "data": {
      "text/plain": [
       "'김'"
      ]
     },
     "execution_count": 20,
     "metadata": {},
     "output_type": "execute_result"
    }
   ],
   "source": [
    "b.lastname"
   ]
  },
  {
   "cell_type": "code",
   "execution_count": 21,
   "id": "6b9524bf",
   "metadata": {},
   "outputs": [],
   "source": [
    "Family.lastname = \"박\""
   ]
  },
  {
   "cell_type": "code",
   "execution_count": 22,
   "id": "da958a45",
   "metadata": {},
   "outputs": [
    {
     "data": {
      "text/plain": [
       "'박'"
      ]
     },
     "execution_count": 22,
     "metadata": {},
     "output_type": "execute_result"
    }
   ],
   "source": [
    "a.lastname"
   ]
  },
  {
   "cell_type": "code",
   "execution_count": 23,
   "id": "b4865662",
   "metadata": {},
   "outputs": [
    {
     "data": {
      "text/plain": [
       "'박'"
      ]
     },
     "execution_count": 23,
     "metadata": {},
     "output_type": "execute_result"
    }
   ],
   "source": [
    "b.lastname"
   ]
  },
  {
   "cell_type": "code",
   "execution_count": 24,
   "id": "099af8d3",
   "metadata": {},
   "outputs": [],
   "source": [
    "a.lastname = \"최\""
   ]
  },
  {
   "cell_type": "code",
   "execution_count": 26,
   "id": "5c445f03",
   "metadata": {},
   "outputs": [
    {
     "data": {
      "text/plain": [
       "'최'"
      ]
     },
     "execution_count": 26,
     "metadata": {},
     "output_type": "execute_result"
    }
   ],
   "source": [
    "a.lastname #인스턴스 a의 값은 바뀜"
   ]
  },
  {
   "cell_type": "code",
   "execution_count": 27,
   "id": "9c4efe99",
   "metadata": {},
   "outputs": [
    {
     "data": {
      "text/plain": [
       "'박'"
      ]
     },
     "execution_count": 27,
     "metadata": {},
     "output_type": "execute_result"
    }
   ],
   "source": [
    "Family.lastname #그러나 class의 라스트 네임은 그대로"
   ]
  },
  {
   "cell_type": "markdown",
   "id": "13a84efe",
   "metadata": {},
   "source": [
    "# 예외 처리"
   ]
  },
  {
   "cell_type": "code",
   "execution_count": 28,
   "id": "1b669071",
   "metadata": {},
   "outputs": [
    {
     "name": "stdout",
     "output_type": "stream",
     "text": [
      "division by zero\n"
     ]
    }
   ],
   "source": [
    "# try_except.py\n",
    "try:\n",
    "    4 / 0\n",
    "except ZeroDivisionError as e:\n",
    "    print(e)"
   ]
  },
  {
   "cell_type": "code",
   "execution_count": 34,
   "id": "40eb469e",
   "metadata": {},
   "outputs": [
    {
     "name": "stdout",
     "output_type": "stream",
     "text": [
      "오류 발생\n"
     ]
    }
   ],
   "source": [
    "# try_except.py\n",
    "try:\n",
    "    4 / 0\n",
    "except :\n",
    "    print('오류 발생')"
   ]
  },
  {
   "cell_type": "code",
   "execution_count": 35,
   "id": "f51d4e0a",
   "metadata": {},
   "outputs": [],
   "source": [
    "try:\n",
    "    f = open('foo.txt', 'w')\n",
    "    \n",
    "finally: # 중간에 오류가 발생하더라도 무조건 실행된다.\n",
    "    f.close()"
   ]
  },
  {
   "cell_type": "code",
   "execution_count": 36,
   "id": "928e597b",
   "metadata": {},
   "outputs": [
    {
     "name": "stdout",
     "output_type": "stream",
     "text": [
      "인덱싱 할 수 없습니다.\n"
     ]
    }
   ],
   "source": [
    "# many_error.py\n",
    "try:\n",
    "    a = [1,2]\n",
    "    print(a[3]) #인덱스가 존재하지 않아서 인덱싱 에러가 먼저 실행\n",
    "    4/0\n",
    "except ZeroDivisionError:\n",
    "    print(\"0으로 나눌 수 없습니다.\")\n",
    "except IndexError:\n",
    "    print(\"인덱싱 할 수 없습니다.\")"
   ]
  },
  {
   "cell_type": "code",
   "execution_count": 37,
   "id": "ff58a004",
   "metadata": {},
   "outputs": [
    {
     "name": "stdout",
     "output_type": "stream",
     "text": [
      "list index out of range\n"
     ]
    }
   ],
   "source": [
    "try:\n",
    "    a = [1,2]\n",
    "    print(a[3])\n",
    "    4/0\n",
    "except ZeroDivisionError as e:\n",
    "    print(e)\n",
    "except IndexError as e:\n",
    "    print(e)"
   ]
  },
  {
   "cell_type": "code",
   "execution_count": 38,
   "id": "f1f8b945",
   "metadata": {},
   "outputs": [
    {
     "name": "stdout",
     "output_type": "stream",
     "text": [
      "list index out of range\n"
     ]
    }
   ],
   "source": [
    "try:\n",
    "    a = [1,2]\n",
    "    print(a[3])\n",
    "    4/0\n",
    "except (ZeroDivisionError, IndexError) as e: #복수의 에러를 받을 수도 있다.\n",
    "    print(e)"
   ]
  },
  {
   "cell_type": "code",
   "execution_count": 40,
   "id": "af0ad4c4",
   "metadata": {},
   "outputs": [
    {
     "name": "stdout",
     "output_type": "stream",
     "text": [
      "나이를 입력하세요: 나이\n",
      "입력이 정확하지 않습니다.\n"
     ]
    }
   ],
   "source": [
    "# try_else.py\n",
    "try:\n",
    "    age=int(input('나이를 입력하세요: '))\n",
    "except:\n",
    "    print('입력이 정확하지 않습니다.')\n",
    "else: #오류가 발생하지 않았을 때 실행하게 하기 위해 else 사용\n",
    "    if age <= 18:\n",
    "        print('미성년자는 출입금지입니다.')\n",
    "    else:\n",
    "        print('환영합니다.')"
   ]
  },
  {
   "cell_type": "code",
   "execution_count": 41,
   "id": "92ab22ae",
   "metadata": {},
   "outputs": [],
   "source": [
    "# error_pass.py 오류 회피하기\n",
    "try:\n",
    "    f = open(\"나없는파일\", 'r')\n",
    "except FileNotFoundError:\n",
    "    pass # 오류나면 그냥 패스"
   ]
  },
  {
   "cell_type": "markdown",
   "id": "1ae20d70",
   "metadata": {},
   "source": [
    "# 내장함수"
   ]
  },
  {
   "cell_type": "markdown",
   "id": "96a5a95d",
   "metadata": {},
   "source": [
    "## abs(절댓값)"
   ]
  },
  {
   "cell_type": "code",
   "execution_count": 42,
   "id": "ba15a383",
   "metadata": {},
   "outputs": [
    {
     "data": {
      "text/plain": [
       "3"
      ]
     },
     "execution_count": 42,
     "metadata": {},
     "output_type": "execute_result"
    }
   ],
   "source": [
    "abs(3)"
   ]
  },
  {
   "cell_type": "code",
   "execution_count": 43,
   "id": "75cfb266",
   "metadata": {},
   "outputs": [
    {
     "data": {
      "text/plain": [
       "3"
      ]
     },
     "execution_count": 43,
     "metadata": {},
     "output_type": "execute_result"
    }
   ],
   "source": [
    "abs(-3)"
   ]
  },
  {
   "cell_type": "markdown",
   "id": "0da49ec1",
   "metadata": {},
   "source": [
    "## all\n",
    "all(x)는 반복 가능한 데이터 x를 입력값으로 받으며 이 x의 요소가 모두 참이면 True, 거짓이 하나라도 있으면 False를 리턴한다.\n",
    "\n",
    "반복 가능한 데이터란 for 문에서 사용할 수 있는 자료형을 의미한다. 리스트, 튜플, 문자열, 딕셔너리, 집합 등이 있다."
   ]
  },
  {
   "cell_type": "code",
   "execution_count": 44,
   "id": "03a73bc3",
   "metadata": {},
   "outputs": [
    {
     "data": {
      "text/plain": [
       "True"
      ]
     },
     "execution_count": 44,
     "metadata": {},
     "output_type": "execute_result"
    }
   ],
   "source": [
    ">>> all([1, 2, 3])"
   ]
  },
  {
   "cell_type": "markdown",
   "id": "81488c47",
   "metadata": {},
   "source": [
    "## any\n",
    "any(x)는 반복 가능한 데이터 x를 입력으로 받아 x의 요소 중 하나라도 참이 있으면 True를 리턴하고 x가 모두 거짓일 때만 False를 리턴한다. 즉, all(x)의 반대로 작동한다."
   ]
  },
  {
   "cell_type": "code",
   "execution_count": 46,
   "id": "aad55896",
   "metadata": {},
   "outputs": [
    {
     "data": {
      "text/plain": [
       "True"
      ]
     },
     "execution_count": 46,
     "metadata": {},
     "output_type": "execute_result"
    }
   ],
   "source": [
    "any([1, 2, 3, 0])"
   ]
  },
  {
   "cell_type": "code",
   "execution_count": 47,
   "id": "30c750e2",
   "metadata": {},
   "outputs": [
    {
     "data": {
      "text/plain": [
       "False"
      ]
     },
     "execution_count": 47,
     "metadata": {},
     "output_type": "execute_result"
    }
   ],
   "source": [
    "any([0, \"\"])"
   ]
  },
  {
   "cell_type": "markdown",
   "id": "e8a63098",
   "metadata": {},
   "source": [
    "## chr\n",
    "chr(i)는 유니코드 숫자 값을 입력받아 그 코드에 해당하는 문자를 리턴하는 함수이다."
   ]
  },
  {
   "cell_type": "code",
   "execution_count": 48,
   "id": "f2449cea",
   "metadata": {},
   "outputs": [
    {
     "data": {
      "text/plain": [
       "'a'"
      ]
     },
     "execution_count": 48,
     "metadata": {},
     "output_type": "execute_result"
    }
   ],
   "source": [
    "chr(97)"
   ]
  },
  {
   "cell_type": "code",
   "execution_count": 49,
   "id": "35ba5682",
   "metadata": {},
   "outputs": [
    {
     "data": {
      "text/plain": [
       "'가'"
      ]
     },
     "execution_count": 49,
     "metadata": {},
     "output_type": "execute_result"
    }
   ],
   "source": [
    "chr(44032)"
   ]
  },
  {
   "cell_type": "markdown",
   "id": "01ea4f96",
   "metadata": {},
   "source": [
    "## dir\n",
    "dir은 객체가 지닌 변수나 함수를 보여 주는 함수이다. 다음 예는 리스트와 딕셔너리가 지닌 함수(메서드)를 보여 주는 예이다. 우리가 02장에서 살펴본 함수들을 구경할 수 있다."
   ]
  },
  {
   "cell_type": "code",
   "execution_count": 50,
   "id": "b7af86a6",
   "metadata": {},
   "outputs": [
    {
     "data": {
      "text/plain": [
       "['__add__',\n",
       " '__class__',\n",
       " '__class_getitem__',\n",
       " '__contains__',\n",
       " '__delattr__',\n",
       " '__delitem__',\n",
       " '__dir__',\n",
       " '__doc__',\n",
       " '__eq__',\n",
       " '__format__',\n",
       " '__ge__',\n",
       " '__getattribute__',\n",
       " '__getitem__',\n",
       " '__getstate__',\n",
       " '__gt__',\n",
       " '__hash__',\n",
       " '__iadd__',\n",
       " '__imul__',\n",
       " '__init__',\n",
       " '__init_subclass__',\n",
       " '__iter__',\n",
       " '__le__',\n",
       " '__len__',\n",
       " '__lt__',\n",
       " '__mul__',\n",
       " '__ne__',\n",
       " '__new__',\n",
       " '__reduce__',\n",
       " '__reduce_ex__',\n",
       " '__repr__',\n",
       " '__reversed__',\n",
       " '__rmul__',\n",
       " '__setattr__',\n",
       " '__setitem__',\n",
       " '__sizeof__',\n",
       " '__str__',\n",
       " '__subclasshook__',\n",
       " 'append',\n",
       " 'clear',\n",
       " 'copy',\n",
       " 'count',\n",
       " 'extend',\n",
       " 'index',\n",
       " 'insert',\n",
       " 'pop',\n",
       " 'remove',\n",
       " 'reverse',\n",
       " 'sort']"
      ]
     },
     "execution_count": 50,
     "metadata": {},
     "output_type": "execute_result"
    }
   ],
   "source": [
    "dir([1, 2, 3])"
   ]
  },
  {
   "cell_type": "markdown",
   "id": "445ff551",
   "metadata": {},
   "source": [
    "## divmod\n",
    "divmod(a, b)는 2개의 숫자 a, b를 입력으로 받는다. 그리고 a를 b로 나눈 몫과 나머지를 튜플로 리턴한다."
   ]
  },
  {
   "cell_type": "code",
   "execution_count": 51,
   "id": "2f1c231e",
   "metadata": {},
   "outputs": [
    {
     "data": {
      "text/plain": [
       "(2, 1)"
      ]
     },
     "execution_count": 51,
     "metadata": {},
     "output_type": "execute_result"
    }
   ],
   "source": [
    "divmod(7, 3)"
   ]
  },
  {
   "cell_type": "markdown",
   "id": "4ce32ab9",
   "metadata": {},
   "source": [
    "## enumerate\n",
    "enumerate는 ‘열거하다’라는 뜻이다. 이 함수는 순서가 있는 데이터(리스트, 튜플, 문자열)를 입력으로 받아 인덱스 값을 포함하는 enumerate 객체를 리턴한다.\n",
    "\n",
    "보통 enumerate 함수는 for 문과 함께 사용한다."
   ]
  },
  {
   "cell_type": "code",
   "execution_count": 52,
   "id": "87b273e4",
   "metadata": {},
   "outputs": [
    {
     "name": "stdout",
     "output_type": "stream",
     "text": [
      "0 body\n",
      "1 foo\n",
      "2 bar\n"
     ]
    }
   ],
   "source": [
    "for i, name in enumerate(['body', 'foo', 'bar']):\n",
    "    print(i, name)"
   ]
  },
  {
   "cell_type": "markdown",
   "id": "3e30abf2",
   "metadata": {},
   "source": [
    "## filter\n",
    "filter란 ‘무엇인가를 걸러 낸다’라는 뜻으로, filter 함수도 이와 비슷한 기능을 한다.\n",
    "\n",
    "filter(함수, 반복_가능한_데이터)"
   ]
  },
  {
   "cell_type": "code",
   "execution_count": 53,
   "id": "ffc46054",
   "metadata": {},
   "outputs": [
    {
     "name": "stdout",
     "output_type": "stream",
     "text": [
      "[1, 2, 6]\n"
     ]
    }
   ],
   "source": [
    "# positive.py \n",
    "def positive(l): \n",
    "    result = [] \n",
    "    for i in l: \n",
    "        if i > 0: \n",
    "            result.append(i) \n",
    "    return result\n",
    "\n",
    "print(positive([1,-3,2,0,-5,6]))"
   ]
  },
  {
   "cell_type": "code",
   "execution_count": 54,
   "id": "17cfd2dc",
   "metadata": {},
   "outputs": [
    {
     "name": "stdout",
     "output_type": "stream",
     "text": [
      "[1, 2, 6]\n"
     ]
    }
   ],
   "source": [
    "# filter1.py\n",
    "def positive(x):\n",
    "    return x > 0\n",
    "\n",
    "print(list(filter(positive, [1, -3, 2, 0, -5, 6])))"
   ]
  },
  {
   "cell_type": "code",
   "execution_count": 57,
   "id": "1f9ecf7a",
   "metadata": {},
   "outputs": [
    {
     "data": {
      "text/plain": [
       "[1, 2, 6]"
      ]
     },
     "execution_count": 57,
     "metadata": {},
     "output_type": "execute_result"
    }
   ],
   "source": [
    "list(filter(lambda x: x > 0, [1, -3, 2, 0, -5, 6]))"
   ]
  },
  {
   "cell_type": "markdown",
   "id": "0528d845",
   "metadata": {},
   "source": [
    "## map\n",
    "map(f, iterable)은 함수(f)와 반복 가능한 데이터를 입력으로 받는다. map은 입력받은 데이터의 각 요소에 함수 f를 적용한 결과를 리턴하는 함수이다."
   ]
  },
  {
   "cell_type": "code",
   "execution_count": 58,
   "id": "bfb7ad08",
   "metadata": {},
   "outputs": [
    {
     "name": "stdout",
     "output_type": "stream",
     "text": [
      "[2, 4, 6, 8]\n"
     ]
    }
   ],
   "source": [
    "# two_times.py\n",
    "def two_times(numberList):\n",
    "    result = []\n",
    "    for number in numberList:\n",
    "        result.append(number*2)\n",
    "    return result\n",
    "\n",
    "result = two_times([1, 2, 3, 4])\n",
    "print(result)"
   ]
  },
  {
   "cell_type": "code",
   "execution_count": 59,
   "id": "e48b8aad",
   "metadata": {},
   "outputs": [
    {
     "data": {
      "text/plain": [
       "[2, 4, 6, 8]"
      ]
     },
     "execution_count": 59,
     "metadata": {},
     "output_type": "execute_result"
    }
   ],
   "source": [
    ">>> def two_times(x): \n",
    "...     return x*2\n",
    "...\n",
    ">>> list(map(two_times, [1, 2, 3, 4]))\n",
    "#filter는 참일 경우 출력 -> 조건식\n",
    "#map은 무조건적으로 함수 적용"
   ]
  },
  {
   "cell_type": "code",
   "execution_count": 70,
   "id": "8b7f5c65",
   "metadata": {},
   "outputs": [
    {
     "data": {
      "text/plain": [
       "[2, 4, 6, 8]"
      ]
     },
     "execution_count": 70,
     "metadata": {},
     "output_type": "execute_result"
    }
   ],
   "source": [
    "list(map(lambda a: a*2,[1, 2, 3, 4]))"
   ]
  },
  {
   "cell_type": "markdown",
   "id": "92863adb",
   "metadata": {},
   "source": [
    "## range\n",
    "range([start,] stop [,step])은 for 문과 함께 자주 사용하는 함수이다. 이 함수는 입력받은 숫자에 해당하는 범위 값을 반복 가능한 객체로 만들어 리턴한다."
   ]
  },
  {
   "cell_type": "markdown",
   "id": "a0e00447",
   "metadata": {},
   "source": [
    "### 인수가 하나일 경우\n",
    "시작 숫자를 지정해 주지 않으면 range 함수는 0부터 시작한다."
   ]
  },
  {
   "cell_type": "code",
   "execution_count": 71,
   "id": "94a7dd10",
   "metadata": {},
   "outputs": [
    {
     "data": {
      "text/plain": [
       "[0, 1, 2, 3, 4]"
      ]
     },
     "execution_count": 71,
     "metadata": {},
     "output_type": "execute_result"
    }
   ],
   "source": [
    "list(range(5))"
   ]
  },
  {
   "cell_type": "markdown",
   "id": "c22be7a1",
   "metadata": {},
   "source": [
    "### 인수가 2개일 경우"
   ]
  },
  {
   "cell_type": "code",
   "execution_count": 72,
   "id": "fb128c7d",
   "metadata": {},
   "outputs": [
    {
     "data": {
      "text/plain": [
       "[5, 6, 7, 8, 9]"
      ]
     },
     "execution_count": 72,
     "metadata": {},
     "output_type": "execute_result"
    }
   ],
   "source": [
    "list(range(5, 10))"
   ]
  },
  {
   "cell_type": "markdown",
   "id": "0671c6c0",
   "metadata": {},
   "source": [
    "### 인수가 3개일 경우\n",
    "세 번째 인수는 숫자 사이의 거리를 말한다."
   ]
  },
  {
   "cell_type": "code",
   "execution_count": 74,
   "id": "fe5daaf3",
   "metadata": {},
   "outputs": [
    {
     "data": {
      "text/plain": [
       "[1, 3, 5, 7, 9]"
      ]
     },
     "execution_count": 74,
     "metadata": {},
     "output_type": "execute_result"
    }
   ],
   "source": [
    "list(range(1, 10, 2))"
   ]
  },
  {
   "cell_type": "code",
   "execution_count": 75,
   "id": "debec258",
   "metadata": {},
   "outputs": [
    {
     "data": {
      "text/plain": [
       "[0, -1, -2, -3, -4, -5, -6, -7, -8, -9]"
      ]
     },
     "execution_count": 75,
     "metadata": {},
     "output_type": "execute_result"
    }
   ],
   "source": [
    "list(range(0, -10, -1))"
   ]
  },
  {
   "cell_type": "markdown",
   "id": "08ce8039",
   "metadata": {},
   "source": [
    "## zip\n",
    "zip(*iterable)은 동일한 개수로 이루어진 데이터들을 묶어서 리턴하는 함수이다.\n",
    "\n",
    "여기서 사용한 *iterable은 반복 가능한 데이터를 여러 개 입력할 수 있다는 의미이다."
   ]
  },
  {
   "cell_type": "code",
   "execution_count": 76,
   "id": "e97e6567",
   "metadata": {},
   "outputs": [
    {
     "data": {
      "text/plain": [
       "[(1, 4), (2, 5), (3, 6)]"
      ]
     },
     "execution_count": 76,
     "metadata": {},
     "output_type": "execute_result"
    }
   ],
   "source": [
    "list(zip([1, 2, 3], [4, 5, 6]))"
   ]
  },
  {
   "cell_type": "code",
   "execution_count": 77,
   "id": "20843dad",
   "metadata": {},
   "outputs": [
    {
     "data": {
      "text/plain": [
       "[(1, 4, 7), (2, 5, 8), (3, 6, 9)]"
      ]
     },
     "execution_count": 77,
     "metadata": {},
     "output_type": "execute_result"
    }
   ],
   "source": [
    "list(zip([1, 2, 3], [4, 5, 6], [7, 8, 9]))"
   ]
  },
  {
   "cell_type": "code",
   "execution_count": 78,
   "id": "3e4c9320",
   "metadata": {},
   "outputs": [
    {
     "data": {
      "text/plain": [
       "[('a', 'd'), ('b', 'e'), ('c', 'f')]"
      ]
     },
     "execution_count": 78,
     "metadata": {},
     "output_type": "execute_result"
    }
   ],
   "source": [
    "list(zip(\"abc\", \"def\"))"
   ]
  },
  {
   "cell_type": "markdown",
   "id": "30922125",
   "metadata": {},
   "source": [
    "# 내부 라이브러리"
   ]
  },
  {
   "cell_type": "markdown",
   "id": "e9caa4ce",
   "metadata": {},
   "source": [
    "## datetime.date"
   ]
  },
  {
   "cell_type": "code",
   "execution_count": 79,
   "id": "e5b1313a",
   "metadata": {},
   "outputs": [],
   "source": [
    "import datetime\n",
    "day1 = datetime.date(2021, 12, 14)\n",
    "day2 = datetime.date(2023, 4, 5)"
   ]
  },
  {
   "cell_type": "code",
   "execution_count": 82,
   "id": "4134ed73",
   "metadata": {},
   "outputs": [
    {
     "data": {
      "text/plain": [
       "datetime.timedelta(days=477)"
      ]
     },
     "execution_count": 82,
     "metadata": {},
     "output_type": "execute_result"
    }
   ],
   "source": [
    "diff = day2 - day1\n",
    "diff"
   ]
  },
  {
   "cell_type": "code",
   "execution_count": 83,
   "id": "b7f371b3",
   "metadata": {},
   "outputs": [
    {
     "data": {
      "text/plain": [
       "477"
      ]
     },
     "execution_count": 83,
     "metadata": {},
     "output_type": "execute_result"
    }
   ],
   "source": [
    "diff.days"
   ]
  },
  {
   "cell_type": "code",
   "execution_count": 84,
   "id": "a67baa15",
   "metadata": {},
   "outputs": [
    {
     "data": {
      "text/plain": [
       "1"
      ]
     },
     "execution_count": 84,
     "metadata": {},
     "output_type": "execute_result"
    }
   ],
   "source": [
    "day = datetime.date(2023, 12, 5)\n",
    "day.weekday()\n",
    "# monday == 0 ... Sunday == 6"
   ]
  },
  {
   "cell_type": "code",
   "execution_count": 85,
   "id": "2507e2e9",
   "metadata": {},
   "outputs": [
    {
     "data": {
      "text/plain": [
       "2"
      ]
     },
     "execution_count": 85,
     "metadata": {},
     "output_type": "execute_result"
    }
   ],
   "source": [
    "day.isoweekday()"
   ]
  },
  {
   "cell_type": "markdown",
   "id": "33fada7e",
   "metadata": {},
   "source": [
    "## Time"
   ]
  },
  {
   "cell_type": "code",
   "execution_count": 86,
   "id": "1ea01f85",
   "metadata": {},
   "outputs": [
    {
     "data": {
      "text/plain": [
       "1701757034.0364761"
      ]
     },
     "execution_count": 86,
     "metadata": {},
     "output_type": "execute_result"
    }
   ],
   "source": [
    "import time\n",
    "time.time()"
   ]
  },
  {
   "cell_type": "code",
   "execution_count": 87,
   "id": "b2842410",
   "metadata": {},
   "outputs": [
    {
     "data": {
      "text/plain": [
       "time.struct_time(tm_year=2023, tm_mon=12, tm_mday=5, tm_hour=15, tm_min=17, tm_sec=57, tm_wday=1, tm_yday=339, tm_isdst=0)"
      ]
     },
     "execution_count": 87,
     "metadata": {},
     "output_type": "execute_result"
    }
   ],
   "source": [
    "time.localtime(time.time())"
   ]
  },
  {
   "cell_type": "code",
   "execution_count": 88,
   "id": "3169623b",
   "metadata": {},
   "outputs": [
    {
     "data": {
      "text/plain": [
       "2023"
      ]
     },
     "execution_count": 88,
     "metadata": {},
     "output_type": "execute_result"
    }
   ],
   "source": [
    "time.localtime(time.time()).tm_year"
   ]
  },
  {
   "cell_type": "code",
   "execution_count": 89,
   "id": "8f3a2836",
   "metadata": {},
   "outputs": [
    {
     "data": {
      "text/plain": [
       "'Tue Dec  5 15:19:24 2023'"
      ]
     },
     "execution_count": 89,
     "metadata": {},
     "output_type": "execute_result"
    }
   ],
   "source": [
    "time.asctime(time.localtime(time.time()))"
   ]
  },
  {
   "cell_type": "code",
   "execution_count": 90,
   "id": "94c1b740",
   "metadata": {},
   "outputs": [
    {
     "data": {
      "text/plain": [
       "'Tue Dec  5 15:19:44 2023'"
      ]
     },
     "execution_count": 90,
     "metadata": {},
     "output_type": "execute_result"
    }
   ],
   "source": [
    "time.ctime() #현재 시간"
   ]
  },
  {
   "cell_type": "code",
   "execution_count": 91,
   "id": "1817f2f8",
   "metadata": {},
   "outputs": [
    {
     "data": {
      "text/plain": [
       "'12/05/23'"
      ]
     },
     "execution_count": 91,
     "metadata": {},
     "output_type": "execute_result"
    }
   ],
   "source": [
    "import time\n",
    "time.strftime('%x', time.localtime(time.time()))"
   ]
  },
  {
   "cell_type": "code",
   "execution_count": 92,
   "id": "39978c14",
   "metadata": {},
   "outputs": [
    {
     "data": {
      "text/plain": [
       "'Tue Dec  5 15:21:34 2023'"
      ]
     },
     "execution_count": 92,
     "metadata": {},
     "output_type": "execute_result"
    }
   ],
   "source": [
    "time.strftime('%c', time.localtime(time.time()))"
   ]
  },
  {
   "cell_type": "code",
   "execution_count": 93,
   "id": "f53650b1",
   "metadata": {},
   "outputs": [
    {
     "name": "stdout",
     "output_type": "stream",
     "text": [
      "0\n",
      "1\n",
      "2\n",
      "3\n",
      "4\n",
      "5\n",
      "6\n",
      "7\n",
      "8\n",
      "9\n"
     ]
    }
   ],
   "source": [
    "import time\n",
    "for i in range(10):\n",
    "    print(i)\n",
    "    time.sleep(1) # 1초 간격으로 결과값 출력"
   ]
  },
  {
   "cell_type": "code",
   "execution_count": 95,
   "id": "faf52c73",
   "metadata": {},
   "outputs": [
    {
     "data": {
      "text/plain": [
       "'Tue Dec  5 15:25:46 2023'"
      ]
     },
     "execution_count": 95,
     "metadata": {},
     "output_type": "execute_result"
    }
   ],
   "source": [
    "time.strftime('%c') #아무것도 입력 안하면 현재 시간 기준으로 출력됨"
   ]
  },
  {
   "cell_type": "markdown",
   "id": "f02be6de",
   "metadata": {},
   "source": [
    "## random"
   ]
  },
  {
   "cell_type": "code",
   "execution_count": 96,
   "id": "ff4728e4",
   "metadata": {},
   "outputs": [
    {
     "data": {
      "text/plain": [
       "0.3998644804853456"
      ]
     },
     "execution_count": 96,
     "metadata": {},
     "output_type": "execute_result"
    }
   ],
   "source": [
    "import random\n",
    "random.random() #실수"
   ]
  },
  {
   "cell_type": "code",
   "execution_count": 97,
   "id": "8f4307f3",
   "metadata": {},
   "outputs": [
    {
     "data": {
      "text/plain": [
       "1"
      ]
     },
     "execution_count": 97,
     "metadata": {},
     "output_type": "execute_result"
    }
   ],
   "source": [
    "random.randint(1, 10) #정수"
   ]
  },
  {
   "cell_type": "code",
   "execution_count": 99,
   "id": "8653d09d",
   "metadata": {},
   "outputs": [
    {
     "name": "stdout",
     "output_type": "stream",
     "text": [
      "5\n",
      "4\n",
      "1\n",
      "2\n",
      "3\n"
     ]
    }
   ],
   "source": [
    "import random\n",
    "def random_pop(data):\n",
    "    number = random.randint(0, len(data)-1)\n",
    "    return data.pop(number)\n",
    "\n",
    "if __name__ == \"__main__\":\n",
    "    data = [1, 2, 3, 4, 5]\n",
    "    while data:\n",
    "        print(random_pop(data))"
   ]
  },
  {
   "cell_type": "code",
   "execution_count": 100,
   "id": "aadfac28",
   "metadata": {},
   "outputs": [],
   "source": [
    "def random_pop(data):\n",
    "    number = random.choice(data)\n",
    "    data.remove(number)\n",
    "    return number"
   ]
  },
  {
   "cell_type": "code",
   "execution_count": 101,
   "id": "bc0a8fab",
   "metadata": {},
   "outputs": [
    {
     "data": {
      "text/plain": [
       "[3, 4, 2, 1, 5]"
      ]
     },
     "execution_count": 101,
     "metadata": {},
     "output_type": "execute_result"
    }
   ],
   "source": [
    "import random\n",
    "data = [1, 2, 3, 4, 5]\n",
    "random.sample(data, len(data))"
   ]
  },
  {
   "cell_type": "markdown",
   "id": "1df1a098",
   "metadata": {},
   "source": [
    "## glob"
   ]
  },
  {
   "cell_type": "code",
   "execution_count": 2,
   "id": "204ff137",
   "metadata": {},
   "outputs": [
    {
     "data": {
      "text/plain": [
       "['C:\\\\workspace\\\\python\\\\WASSUP\\\\00_마크다운_실습용.ipynb',\n",
       " 'C:\\\\workspace\\\\python\\\\WASSUP\\\\01_자료형&변수_연습문제_실습용.ipynb',\n",
       " 'C:\\\\workspace\\\\python\\\\WASSUP\\\\01_자료형과 변수.ipynb',\n",
       " 'C:\\\\workspace\\\\python\\\\WASSUP\\\\02_제어문.ipynb',\n",
       " 'C:\\\\workspace\\\\python\\\\WASSUP\\\\02_제어문_연습문제_실습용.ipynb',\n",
       " 'C:\\\\workspace\\\\python\\\\WASSUP\\\\03_코딩연습_전화번호프로그램_실습용(강사님).ipynb',\n",
       " 'C:\\\\workspace\\\\python\\\\WASSUP\\\\03_코딩연습_전화번호프로그램_실습용.ipynb',\n",
       " 'C:\\\\workspace\\\\python\\\\WASSUP\\\\04_파이썬의 입출력.ipynb',\n",
       " 'C:\\\\workspace\\\\python\\\\WASSUP\\\\04_함수&입출력_연습문제.ipynb',\n",
       " 'C:\\\\workspace\\\\python\\\\WASSUP\\\\05.클래스_예외_내장함수_라이브러리.ipynb',\n",
       " 'C:\\\\workspace\\\\python\\\\WASSUP\\\\231203 01번~40번.ipynb',\n",
       " 'C:\\\\workspace\\\\python\\\\WASSUP\\\\coffee.py',\n",
       " 'C:\\\\workspace\\\\python\\\\WASSUP\\\\foo.txt',\n",
       " 'C:\\\\workspace\\\\python\\\\WASSUP\\\\README.md',\n",
       " 'C:\\\\workspace\\\\python\\\\WASSUP\\\\test.txt',\n",
       " 'C:\\\\workspace\\\\python\\\\WASSUP\\\\test1.txt',\n",
       " 'C:\\\\workspace\\\\python\\\\WASSUP\\\\새파일.txt',\n",
       " 'C:\\\\workspace\\\\python\\\\WASSUP\\\\파이썬 반복문 131~200.ipynb',\n",
       " 'C:\\\\workspace\\\\python\\\\WASSUP\\\\파일 읽고 쓰기.ipynb']"
      ]
     },
     "execution_count": 2,
     "metadata": {},
     "output_type": "execute_result"
    }
   ],
   "source": [
    "import glob\n",
    "glob.glob(\"C:\\workspace\\python\\WASSUP/*\")"
   ]
  },
  {
   "cell_type": "code",
   "execution_count": 3,
   "id": "deeff00c",
   "metadata": {},
   "outputs": [
    {
     "name": "stdout",
     "output_type": "stream",
     "text": [
      "00_마크다운_실습용\n",
      "01_자료형&변수_연습문제_실습용\n",
      "01_자료형과 변수\n",
      "02_제어문\n",
      "02_제어문_연습문제_실습용\n",
      "03_코딩연습_전화번호프로그램_실습용(강사님)\n",
      "03_코딩연습_전화번호프로그램_실습용\n",
      "04_파이썬의 입출력\n",
      "04_함수&입출력_연습문제\n",
      "05\n",
      "231203 01번~40번\n",
      "파이썬 반복문 131~200\n",
      "파일 읽고 쓰기\n"
     ]
    }
   ],
   "source": [
    "# 파일명 추출하기\n",
    "file_list = glob.glob(\"C:\\workspace\\python\\WASSUP/*ipynb\")\n",
    "for file in file_list:\n",
    "    print(file.split('\\\\')[4].split('.')[0])"
   ]
  },
  {
   "cell_type": "markdown",
   "id": "8bdc66f9",
   "metadata": {},
   "source": [
    "## os"
   ]
  },
  {
   "cell_type": "code",
   "execution_count": 4,
   "id": "3d36a3b6",
   "metadata": {},
   "outputs": [
    {
     "data": {
      "text/plain": [
       "environ{'ALLUSERSPROFILE': 'C:\\\\ProgramData',\n",
       "        'APPDATA': 'C:\\\\Users\\\\User\\\\AppData\\\\Roaming',\n",
       "        'COMMONPROGRAMFILES': 'C:\\\\Program Files\\\\Common Files',\n",
       "        'COMMONPROGRAMFILES(X86)': 'C:\\\\Program Files (x86)\\\\Common Files',\n",
       "        'COMMONPROGRAMW6432': 'C:\\\\Program Files\\\\Common Files',\n",
       "        'COMPUTERNAME': 'DESKTOP-F9Q313O',\n",
       "        'COMSPEC': 'C:\\\\Windows\\\\system32\\\\cmd.exe',\n",
       "        'DRIVERDATA': 'C:\\\\Windows\\\\System32\\\\Drivers\\\\DriverData',\n",
       "        'FPS_BROWSER_APP_PROFILE_STRING': 'Internet Explorer',\n",
       "        'FPS_BROWSER_USER_PROFILE_STRING': 'Default',\n",
       "        'HOMEDRIVE': 'C:',\n",
       "        'HOMEPATH': '\\\\Users\\\\User',\n",
       "        'LOCALAPPDATA': 'C:\\\\Users\\\\User\\\\AppData\\\\Local',\n",
       "        'LOGONSERVER': '\\\\\\\\DESKTOP-F9Q313O',\n",
       "        'NUMBER_OF_PROCESSORS': '12',\n",
       "        'ONEDRIVE': 'C:\\\\Users\\\\User\\\\OneDrive',\n",
       "        'OS': 'Windows_NT',\n",
       "        'PATH': 'C:\\\\Users\\\\User\\\\anaconda3;C:\\\\Users\\\\User\\\\anaconda3\\\\Library\\\\mingw-w64\\\\bin;C:\\\\Users\\\\User\\\\anaconda3\\\\Library\\\\usr\\\\bin;C:\\\\Users\\\\User\\\\anaconda3\\\\Library\\\\bin;C:\\\\Users\\\\User\\\\anaconda3\\\\Scripts;C:\\\\Windows\\\\system32;C:\\\\Windows;C:\\\\Windows\\\\System32\\\\Wbem;C:\\\\Windows\\\\System32\\\\WindowsPowerShell\\\\v1.0\\\\;C:\\\\Windows\\\\System32\\\\OpenSSH\\\\;C:\\\\Program Files (x86)\\\\NVIDIA Corporation\\\\PhysX\\\\Common;C:\\\\Program Files\\\\NVIDIA Corporation\\\\NVIDIA NvDLISR;C:\\\\Program Files\\\\MySQL\\\\MySQL Server 8.0\\\\bin;C:\\\\Program Files\\\\Git\\\\cmd;C:\\\\Users\\\\User\\\\anaconda3;C:\\\\Users\\\\User\\\\anaconda3\\\\Library\\\\mingw-w64\\\\bin;C:\\\\Users\\\\User\\\\anaconda3\\\\Library\\\\usr\\\\bin;C:\\\\Users\\\\User\\\\anaconda3\\\\Library\\\\bin;C:\\\\Users\\\\User\\\\anaconda3\\\\Scripts;C:\\\\Users\\\\User\\\\AppData\\\\Local\\\\Microsoft\\\\WindowsApps',\n",
       "        'PATHEXT': '.COM;.EXE;.BAT;.CMD;.VBS;.VBE;.JS;.JSE;.WSF;.WSH;.MSC',\n",
       "        'PROCESSOR_ARCHITECTURE': 'AMD64',\n",
       "        'PROCESSOR_IDENTIFIER': 'Intel64 Family 6 Model 165 Stepping 5, GenuineIntel',\n",
       "        'PROCESSOR_LEVEL': '6',\n",
       "        'PROCESSOR_REVISION': 'a505',\n",
       "        'PROGRAMDATA': 'C:\\\\ProgramData',\n",
       "        'PROGRAMFILES': 'C:\\\\Program Files',\n",
       "        'PROGRAMFILES(X86)': 'C:\\\\Program Files (x86)',\n",
       "        'PROGRAMW6432': 'C:\\\\Program Files',\n",
       "        'PSMODULEPATH': 'C:\\\\Program Files\\\\WindowsPowerShell\\\\Modules;C:\\\\Windows\\\\system32\\\\WindowsPowerShell\\\\v1.0\\\\Modules',\n",
       "        'PUBLIC': 'C:\\\\Users\\\\Public',\n",
       "        'SESSIONNAME': 'Console',\n",
       "        'SYSTEMDRIVE': 'C:',\n",
       "        'SYSTEMROOT': 'C:\\\\Windows',\n",
       "        'TEMP': 'C:\\\\Users\\\\User\\\\AppData\\\\Local\\\\Temp',\n",
       "        'TMP': 'C:\\\\Users\\\\User\\\\AppData\\\\Local\\\\Temp',\n",
       "        'USERDOMAIN': 'DESKTOP-F9Q313O',\n",
       "        'USERDOMAIN_ROAMINGPROFILE': 'DESKTOP-F9Q313O',\n",
       "        'USERNAME': 'User',\n",
       "        'USERPROFILE': 'C:\\\\Users\\\\User',\n",
       "        'WINDIR': 'C:\\\\Windows',\n",
       "        'CONDA_PREFIX': 'C:\\\\Users\\\\User\\\\anaconda3',\n",
       "        'PYDEVD_USE_FRAME_EVAL': 'NO',\n",
       "        'JPY_INTERRUPT_EVENT': '2944',\n",
       "        'IPY_INTERRUPT_EVENT': '2944',\n",
       "        'JPY_PARENT_PID': '2252',\n",
       "        'TERM': 'xterm-color',\n",
       "        'CLICOLOR': '1',\n",
       "        'FORCE_COLOR': '1',\n",
       "        'CLICOLOR_FORCE': '1',\n",
       "        'PAGER': 'cat',\n",
       "        'GIT_PAGER': 'cat',\n",
       "        'MPLBACKEND': 'module://matplotlib_inline.backend_inline'}"
      ]
     },
     "execution_count": 4,
     "metadata": {},
     "output_type": "execute_result"
    }
   ],
   "source": [
    "import os\n",
    "os.environ"
   ]
  },
  {
   "cell_type": "code",
   "execution_count": 114,
   "id": "7c0d2801",
   "metadata": {},
   "outputs": [
    {
     "data": {
      "text/plain": [
       "'C:\\\\workspace\\\\python\\\\WASSUP'"
      ]
     },
     "execution_count": 114,
     "metadata": {},
     "output_type": "execute_result"
    }
   ],
   "source": [
    "os.getcwd()"
   ]
  },
  {
   "cell_type": "code",
   "execution_count": 5,
   "id": "d4c0728f",
   "metadata": {},
   "outputs": [
    {
     "data": {
      "text/plain": [
       "['C:\\\\workspace\\\\python\\\\WASSUP\\\\00_마크다운_실습용.ipynb',\n",
       " 'C:\\\\workspace\\\\python\\\\WASSUP\\\\01_자료형&변수_연습문제_실습용.ipynb',\n",
       " 'C:\\\\workspace\\\\python\\\\WASSUP\\\\01_자료형과 변수.ipynb',\n",
       " 'C:\\\\workspace\\\\python\\\\WASSUP\\\\02_제어문.ipynb',\n",
       " 'C:\\\\workspace\\\\python\\\\WASSUP\\\\02_제어문_연습문제_실습용.ipynb',\n",
       " 'C:\\\\workspace\\\\python\\\\WASSUP\\\\03_코딩연습_전화번호프로그램_실습용(강사님).ipynb',\n",
       " 'C:\\\\workspace\\\\python\\\\WASSUP\\\\03_코딩연습_전화번호프로그램_실습용.ipynb',\n",
       " 'C:\\\\workspace\\\\python\\\\WASSUP\\\\04_파이썬의 입출력.ipynb',\n",
       " 'C:\\\\workspace\\\\python\\\\WASSUP\\\\04_함수&입출력_연습문제.ipynb',\n",
       " 'C:\\\\workspace\\\\python\\\\WASSUP\\\\05.클래스_예외_내장함수_라이브러리.ipynb',\n",
       " 'C:\\\\workspace\\\\python\\\\WASSUP\\\\231203 01번~40번.ipynb',\n",
       " 'C:\\\\workspace\\\\python\\\\WASSUP\\\\파이썬 반복문 131~200.ipynb',\n",
       " 'C:\\\\workspace\\\\python\\\\WASSUP\\\\파일 읽고 쓰기.ipynb']"
      ]
     },
     "execution_count": 5,
     "metadata": {},
     "output_type": "execute_result"
    }
   ],
   "source": [
    "glob.glob(f\"{os.getcwd()}/*ipynb\")"
   ]
  },
  {
   "cell_type": "code",
   "execution_count": 17,
   "id": "2ae7aa62",
   "metadata": {},
   "outputs": [],
   "source": [
    "os.chdir(\"C:\\workspace\\python\\WASSUP\")"
   ]
  },
  {
   "cell_type": "code",
   "execution_count": 18,
   "id": "d63b8f50",
   "metadata": {},
   "outputs": [
    {
     "data": {
      "text/plain": [
       "'C:\\\\workspace\\\\python\\\\WASSUP'"
      ]
     },
     "execution_count": 18,
     "metadata": {},
     "output_type": "execute_result"
    }
   ],
   "source": [
    "os.getcwd()"
   ]
  },
  {
   "cell_type": "markdown",
   "id": "cac1ca1b",
   "metadata": {},
   "source": [
    "## JSON\n",
    "json은 JSON 데이터를 쉽게 처리하고자 사용하는 모듈이다.\n",
    "\n",
    "다음은 개인정보를 JSON 형태의 데이터로 만든 myinfo.json 파일이다."
   ]
  },
  {
   "cell_type": "code",
   "execution_count": 19,
   "id": "abf1bcca",
   "metadata": {},
   "outputs": [],
   "source": [
    "import json\n",
    "data = {\n",
    "    \"name\": \"홍길동\",\n",
    "    \"birth\": \"0525\",\n",
    "    \"age\": 30\n",
    "}\n",
    "\n",
    "with open('myinfo.json', 'w') as f:\n",
    "    json.dump(data, f)"
   ]
  },
  {
   "cell_type": "markdown",
   "id": "7f704872",
   "metadata": {},
   "source": [
    "## urllib\n",
    "urllib은 URL을 읽고 분석할 때 사용하는 모듈이다.\n",
    "\n",
    "브라우저로 위키독스의 특정 페이지를 읽으려면 다음과 같이 요청하면 된다.\n",
    "\n"
   ]
  },
  {
   "cell_type": "code",
   "execution_count": 23,
   "id": "1b0ec3d5",
   "metadata": {},
   "outputs": [],
   "source": [
    "# urllib_test.py\n",
    "import urllib.request\n",
    "\n",
    "def get_wikidocs(page):\n",
    "    resource = 'https://wikidocs.net/{}'.format(page)\n",
    "    with urllib.request.urlopen(resource) as s:\n",
    "        with open('wikidocs_%s.html' % page, 'wb') as f:\n",
    "            f.write(s.read())"
   ]
  },
  {
   "cell_type": "code",
   "execution_count": 24,
   "id": "b269b044",
   "metadata": {},
   "outputs": [],
   "source": [
    "get_wikidocs(12) #숫자 입력 후 파일 생성됨!"
   ]
  },
  {
   "cell_type": "markdown",
   "id": "d527eaac",
   "metadata": {},
   "source": [
    "# 외부 라이브러리"
   ]
  },
  {
   "cell_type": "markdown",
   "id": "b70a1f97",
   "metadata": {},
   "source": [
    "## pip"
   ]
  },
  {
   "cell_type": "code",
   "execution_count": 25,
   "id": "a810bc4b",
   "metadata": {},
   "outputs": [
    {
     "name": "stdout",
     "output_type": "stream",
     "text": [
      "Package                           VersionNote: you may need to restart the kernel to use updated packages.\n",
      "\n",
      "--------------------------------- ---------------\n",
      "aiobotocore                       2.5.0\n",
      "aiofiles                          22.1.0\n",
      "aiohttp                           3.8.5\n",
      "aioitertools                      0.7.1\n",
      "aiosignal                         1.2.0\n",
      "aiosqlite                         0.18.0\n",
      "alabaster                         0.7.12\n",
      "anaconda-anon-usage               0.4.2\n",
      "anaconda-catalogs                 0.2.0\n",
      "anaconda-client                   1.12.1\n",
      "anaconda-cloud-auth               0.1.3\n",
      "anaconda-navigator                2.5.0\n",
      "anaconda-project                  0.11.1\n",
      "anyio                             3.5.0\n",
      "appdirs                           1.4.4\n",
      "argon2-cffi                       21.3.0\n",
      "argon2-cffi-bindings              21.2.0\n",
      "arrow                             1.2.3\n",
      "astroid                           2.14.2\n",
      "astropy                           5.1\n",
      "asttokens                         2.0.5\n",
      "async-timeout                     4.0.2\n",
      "atomicwrites                      1.4.0\n",
      "attrs                             22.1.0\n",
      "Automat                           20.2.0\n",
      "autopep8                          1.6.0\n",
      "Babel                             2.11.0\n",
      "backcall                          0.2.0\n",
      "backports.functools-lru-cache     1.6.4\n",
      "backports.tempfile                1.0\n",
      "backports.weakref                 1.0.post1\n",
      "bcrypt                            3.2.0\n",
      "beautifulsoup4                    4.12.2\n",
      "binaryornot                       0.4.4\n",
      "black                             0.0\n",
      "bleach                            4.1.0\n",
      "bokeh                             3.2.1\n",
      "boltons                           23.0.0\n",
      "botocore                          1.29.76\n",
      "Bottleneck                        1.3.5\n",
      "brotlipy                          0.7.0\n",
      "certifi                           2023.7.22\n",
      "cffi                              1.15.1\n",
      "chardet                           4.0.0\n",
      "charset-normalizer                2.0.4\n",
      "click                             8.0.4\n",
      "cloudpickle                       2.2.1\n",
      "clyent                            1.2.2\n",
      "colorama                          0.4.6\n",
      "colorcet                          3.0.1\n",
      "comm                              0.1.2\n",
      "conda                             23.7.4\n",
      "conda-build                       3.26.1\n",
      "conda-content-trust               0.2.0\n",
      "conda_index                       0.3.0\n",
      "conda-libmamba-solver             23.7.0\n",
      "conda-pack                        0.6.0\n",
      "conda-package-handling            2.2.0\n",
      "conda_package_streaming           0.9.0\n",
      "conda-repo-cli                    1.0.75\n",
      "conda-token                       0.4.0\n",
      "conda-verify                      3.4.2\n",
      "constantly                        15.1.0\n",
      "contourpy                         1.0.5\n",
      "cookiecutter                      1.7.3\n",
      "cryptography                      41.0.3\n",
      "cssselect                         1.1.0\n",
      "cycler                            0.11.0\n",
      "cytoolz                           0.12.0\n",
      "daal4py                           2023.1.1\n",
      "dask                              2023.6.0\n",
      "datasets                          2.12.0\n",
      "datashader                        0.15.2\n",
      "datashape                         0.5.4\n",
      "debugpy                           1.6.7\n",
      "decorator                         5.1.1\n",
      "defusedxml                        0.7.1\n",
      "diff-match-patch                  20200713\n",
      "dill                              0.3.6\n",
      "distributed                       2023.6.0\n",
      "docstring-to-markdown             0.11\n",
      "docutils                          0.18.1\n",
      "entrypoints                       0.4\n",
      "et-xmlfile                        1.1.0\n",
      "executing                         0.8.3\n",
      "fastjsonschema                    2.16.2\n",
      "filelock                          3.9.0\n",
      "flake8                            6.0.0\n",
      "Flask                             2.2.2\n",
      "fonttools                         4.25.0\n",
      "frozenlist                        1.3.3\n",
      "fsspec                            2023.4.0\n",
      "future                            0.18.3\n",
      "gensim                            4.3.0\n",
      "glob2                             0.7\n",
      "greenlet                          2.0.1\n",
      "h5py                              3.9.0\n",
      "HeapDict                          1.0.1\n",
      "holoviews                         1.17.1\n",
      "huggingface-hub                   0.15.1\n",
      "hvplot                            0.8.4\n",
      "hyperlink                         21.0.0\n",
      "idna                              3.4\n",
      "imagecodecs                       2023.1.23\n",
      "imageio                           2.26.0\n",
      "imagesize                         1.4.1\n",
      "imbalanced-learn                  0.10.1\n",
      "importlib-metadata                6.0.0\n",
      "incremental                       21.3.0\n",
      "inflection                        0.5.1\n",
      "iniconfig                         1.1.1\n",
      "intake                            0.6.8\n",
      "intervaltree                      3.1.0\n",
      "ipykernel                         6.25.0\n",
      "ipython                           8.15.0\n",
      "ipython-genutils                  0.2.0\n",
      "ipywidgets                        8.0.4\n",
      "isort                             5.9.3\n",
      "itemadapter                       0.3.0\n",
      "itemloaders                       1.0.4\n",
      "itsdangerous                      2.0.1\n",
      "jaraco.classes                    3.2.1\n",
      "jedi                              0.18.1\n",
      "jellyfish                         1.0.1\n",
      "Jinja2                            3.1.2\n",
      "jinja2-time                       0.2.0\n",
      "jmespath                          0.10.0\n",
      "joblib                            1.2.0\n",
      "json5                             0.9.6\n",
      "jsonpatch                         1.32\n",
      "jsonpointer                       2.1\n",
      "jsonschema                        4.17.3\n",
      "jupyter                           1.0.0\n",
      "jupyter_client                    7.4.9\n",
      "jupyter-console                   6.6.3\n",
      "jupyter-contrib-core              0.4.2\n",
      "jupyter-contrib-nbextensions      0.7.0\n",
      "jupyter_core                      5.3.0\n",
      "jupyter-events                    0.6.3\n",
      "jupyter-highlight-selected-word   0.2.0\n",
      "jupyter-nbextensions-configurator 0.6.3\n",
      "jupyter-server                    1.23.4\n",
      "jupyter_server_fileid             0.9.0\n",
      "jupyter_server_ydoc               0.8.0\n",
      "jupyter-ydoc                      0.2.4\n",
      "jupyterlab                        3.6.3\n",
      "jupyterlab-pygments               0.1.2\n",
      "jupyterlab_server                 2.22.0\n",
      "jupyterlab-widgets                3.0.5\n",
      "kaleido                           0.2.1\n",
      "keyring                           23.13.1\n",
      "kiwisolver                        1.4.4\n",
      "lazy_loader                       0.2\n",
      "lazy-object-proxy                 1.6.0\n",
      "libarchive-c                      2.9\n",
      "libmambapy                        1.5.1\n",
      "linkify-it-py                     2.0.0\n",
      "llvmlite                          0.40.0\n",
      "lmdb                              1.4.1\n",
      "locket                            1.0.0\n",
      "lxml                              4.9.3\n",
      "lz4                               4.3.2\n",
      "Markdown                          3.4.1\n",
      "markdown-it-py                    2.2.0\n",
      "MarkupSafe                        2.1.1\n",
      "matplotlib                        3.7.2\n",
      "matplotlib-inline                 0.1.6\n",
      "mccabe                            0.7.0\n",
      "mdit-py-plugins                   0.3.0\n",
      "mdurl                             0.1.0\n",
      "menuinst                          1.4.19\n",
      "mistune                           0.8.4\n",
      "mkl-fft                           1.3.8\n",
      "mkl-random                        1.2.4\n",
      "mkl-service                       2.4.0\n",
      "more-itertools                    8.12.0\n",
      "mpmath                            1.3.0\n",
      "msgpack                           1.0.3\n",
      "multidict                         6.0.2\n",
      "multipledispatch                  0.6.0\n",
      "multiprocess                      0.70.14\n",
      "munkres                           1.1.4\n",
      "mypy-extensions                   1.0.0\n",
      "navigator-updater                 0.4.0\n",
      "nbclassic                         0.5.5\n",
      "nbclient                          0.5.13\n",
      "nbconvert                         6.5.4\n",
      "nbformat                          5.9.2\n",
      "nest-asyncio                      1.5.6\n",
      "networkx                          3.1\n",
      "nltk                              3.8.1\n",
      "notebook                          6.5.4\n",
      "notebook_shim                     0.2.2\n",
      "numba                             0.57.1\n",
      "numexpr                           2.8.4\n",
      "numpy                             1.24.3\n",
      "numpydoc                          1.5.0\n",
      "openpyxl                          3.0.10\n",
      "packaging                         23.1\n",
      "pandas                            2.0.3\n",
      "pandocfilters                     1.5.0\n",
      "panel                             1.2.3\n",
      "param                             1.13.0\n",
      "paramiko                          2.8.1\n",
      "parsel                            1.6.0\n",
      "parso                             0.8.3\n",
      "partd                             1.4.0\n",
      "pathlib                           1.0.1\n",
      "pathspec                          0.10.3\n",
      "patsy                             0.5.3\n",
      "pep8                              1.7.1\n",
      "pexpect                           4.8.0\n",
      "pickleshare                       0.7.5\n",
      "Pillow                            9.4.0\n",
      "pip                               23.2.1\n",
      "pkce                              1.0.3\n",
      "pkginfo                           1.9.6\n",
      "platformdirs                      3.10.0\n",
      "plotly                            5.9.0\n",
      "pluggy                            1.0.0\n",
      "ply                               3.11\n",
      "poyo                              0.5.0\n",
      "prometheus-client                 0.14.1\n",
      "prompt-toolkit                    3.0.36\n",
      "Protego                           0.1.16\n",
      "psutil                            5.9.0\n",
      "ptyprocess                        0.7.0\n",
      "pure-eval                         0.2.2\n",
      "py-cpuinfo                        8.0.0\n",
      "pyarrow                           11.0.0\n",
      "pyasn1                            0.4.8\n",
      "pyasn1-modules                    0.2.8\n",
      "pycodestyle                       2.10.0\n",
      "pycosat                           0.6.4\n",
      "pycparser                         2.21\n",
      "pyct                              0.5.0\n",
      "pycurl                            7.45.2\n",
      "pydantic                          1.10.8\n",
      "PyDispatcher                      2.0.5\n",
      "pydocstyle                        6.3.0\n",
      "pyerfa                            2.0.0\n",
      "pyflakes                          3.0.1\n",
      "Pygments                          2.15.1\n",
      "PyJWT                             2.4.0\n",
      "pylint                            2.16.2\n",
      "pylint-venv                       2.3.0\n",
      "pyls-spyder                       0.4.0\n",
      "PyNaCl                            1.5.0\n",
      "pyodbc                            4.0.34\n",
      "pyOpenSSL                         23.2.0\n",
      "pyparsing                         3.0.9\n",
      "PyQt5                             5.15.7\n",
      "PyQt5-sip                         12.11.0\n",
      "PyQtWebEngine                     5.15.4\n",
      "pyrsistent                        0.18.0\n",
      "PySocks                           1.7.1\n",
      "pytest                            7.4.0\n",
      "python-dateutil                   2.8.2\n",
      "python-dotenv                     0.21.0\n",
      "python-json-logger                2.0.7\n",
      "python-lsp-black                  1.2.1\n",
      "python-lsp-jsonrpc                1.0.0\n",
      "python-lsp-server                 1.7.2\n",
      "python-slugify                    5.0.2\n",
      "python-snappy                     0.6.1\n",
      "pytoolconfig                      1.2.5\n",
      "pytz                              2023.3.post1\n",
      "pyviz-comms                       2.3.0\n",
      "PyWavelets                        1.4.1\n",
      "pywin32                           305.1\n",
      "pywin32-ctypes                    0.2.0\n",
      "pywinpty                          2.0.10\n",
      "PyYAML                            6.0\n",
      "pyzmq                             23.2.0\n",
      "QDarkStyle                        3.0.2\n",
      "qstylizer                         0.2.2\n",
      "QtAwesome                         1.2.2\n",
      "qtconsole                         5.4.2\n",
      "QtPy                              2.2.0\n",
      "queuelib                          1.5.0\n",
      "regex                             2022.7.9\n",
      "requests                          2.31.0\n",
      "requests-file                     1.5.1\n",
      "requests-toolbelt                 1.0.0\n",
      "responses                         0.13.3\n",
      "rfc3339-validator                 0.1.4\n",
      "rfc3986-validator                 0.1.1\n",
      "rope                              1.7.0\n",
      "Rtree                             1.0.1\n",
      "ruamel.yaml                       0.17.21\n",
      "ruamel-yaml-conda                 0.17.21\n",
      "s3fs                              2023.4.0\n",
      "safetensors                       0.3.2\n",
      "scikit-image                      0.20.0\n",
      "scikit-learn                      1.3.0\n",
      "scikit-learn-intelex              20230426.121932\n",
      "scipy                             1.11.1\n",
      "Scrapy                            2.8.0\n",
      "seaborn                           0.12.2\n",
      "Send2Trash                        1.8.0\n",
      "service-identity                  18.1.0\n",
      "setuptools                        68.0.0\n",
      "sip                               6.6.2\n",
      "six                               1.16.0\n",
      "smart-open                        5.2.1\n",
      "sniffio                           1.2.0\n",
      "snowballstemmer                   2.2.0\n",
      "sortedcontainers                  2.4.0\n",
      "soupsieve                         2.4\n",
      "Sphinx                            5.0.2\n",
      "sphinxcontrib-applehelp           1.0.2\n",
      "sphinxcontrib-devhelp             1.0.2\n",
      "sphinxcontrib-htmlhelp            2.0.0\n",
      "sphinxcontrib-jsmath              1.0.1\n",
      "sphinxcontrib-qthelp              1.0.3\n",
      "sphinxcontrib-serializinghtml     1.1.5\n",
      "spyder                            5.4.3\n",
      "spyder-kernels                    2.4.4\n",
      "SQLAlchemy                        1.4.39\n",
      "stack-data                        0.2.0\n",
      "statsmodels                       0.14.0\n",
      "sympy                             1.11.1\n",
      "tables                            3.8.0\n",
      "tabulate                          0.8.10\n",
      "TBB                               0.2\n",
      "tblib                             1.7.0\n",
      "tenacity                          8.2.2\n",
      "terminado                         0.17.1\n",
      "text-unidecode                    1.3\n",
      "textdistance                      4.2.1\n",
      "threadpoolctl                     2.2.0\n",
      "three-merge                       0.1.1\n",
      "tifffile                          2023.4.12\n",
      "tinycss2                          1.2.1\n",
      "tldextract                        3.2.0\n",
      "tokenizers                        0.13.2\n",
      "toml                              0.10.2\n",
      "tomlkit                           0.11.1\n",
      "toolz                             0.12.0\n",
      "tornado                           6.3.2\n",
      "tqdm                              4.65.0\n",
      "traitlets                         5.7.1\n",
      "transformers                      4.32.1\n",
      "Twisted                           22.10.0\n",
      "twisted-iocpsupport               1.0.2\n",
      "typing_extensions                 4.7.1\n",
      "tzdata                            2023.3\n",
      "uc-micro-py                       1.0.1\n",
      "ujson                             5.4.0\n",
      "Unidecode                         1.2.0\n",
      "urllib3                           1.26.16\n",
      "w3lib                             1.21.0\n",
      "watchdog                          2.1.6\n",
      "wcwidth                           0.2.5\n",
      "webencodings                      0.5.1\n",
      "websocket-client                  0.58.0\n",
      "Werkzeug                          2.2.3\n",
      "whatthepatch                      1.0.2\n",
      "wheel                             0.38.4\n",
      "widgetsnbextension                4.0.5\n",
      "win-inet-pton                     1.1.0\n",
      "wrapt                             1.14.1\n",
      "xarray                            2023.6.0\n",
      "xlwings                           0.29.1\n",
      "xxhash                            2.0.2\n",
      "xyzservices                       2022.9.0\n",
      "y-py                              0.5.9\n",
      "yapf                              0.31.0\n",
      "yarl                              1.8.1\n",
      "ypy-websocket                     0.8.2\n",
      "zict                              2.2.0\n",
      "zipp                              3.11.0\n",
      "zope.interface                    5.4.0\n",
      "zstandard                         0.19.0\n"
     ]
    }
   ],
   "source": [
    "pip list"
   ]
  },
  {
   "cell_type": "code",
   "execution_count": 26,
   "id": "52e710e6",
   "metadata": {},
   "outputs": [
    {
     "name": "stdout",
     "output_type": "stream",
     "text": [
      "pip 23.2.1 from C:\\Users\\User\\anaconda3\\Lib\\site-packages\\pip (python 3.11)\n",
      "\n",
      "Note: you may need to restart the kernel to use updated packages.\n"
     ]
    }
   ],
   "source": [
    "pip --version"
   ]
  },
  {
   "cell_type": "code",
   "execution_count": 27,
   "id": "5086debc",
   "metadata": {},
   "outputs": [
    {
     "name": "stdout",
     "output_type": "stream",
     "text": [
      "# packages in environment at C:\\Users\\User\\anaconda3:\n",
      "#\n",
      "# Name                    Version                   Build  Channel\n",
      "_anaconda_depends         2023.09             py311_mkl_1  \n",
      "abseil-cpp                20211102.0           hd77b12b_0  \n",
      "aiobotocore               2.5.0           py311haa95532_0  \n",
      "aiofiles                  22.1.0          py311haa95532_0  \n",
      "aiohttp                   3.8.5           py311h2bbff1b_0  \n",
      "aioitertools              0.7.1              pyhd3eb1b0_0  \n",
      "aiosignal                 1.2.0              pyhd3eb1b0_0  \n",
      "aiosqlite                 0.18.0          py311haa95532_0  \n",
      "alabaster                 0.7.12             pyhd3eb1b0_0  \n",
      "anaconda-anon-usage       0.4.2           py311hfc23b7f_0  \n",
      "anaconda-catalogs         0.2.0           py311haa95532_0  \n",
      "anaconda-client           1.12.1          py311haa95532_0  \n",
      "anaconda-cloud-auth       0.1.3           py311haa95532_0  \n",
      "anaconda-navigator        2.5.0           py311haa95532_0  \n",
      "anaconda-project          0.11.1          py311haa95532_0  \n",
      "anyio                     3.5.0           py311haa95532_0  \n",
      "aom                       3.6.0                hd77b12b_0  \n",
      "appdirs                   1.4.4              pyhd3eb1b0_0  \n",
      "argon2-cffi               21.3.0             pyhd3eb1b0_0  \n",
      "argon2-cffi-bindings      21.2.0          py311h2bbff1b_0  \n",
      "arrow                     1.2.3           py311haa95532_1  \n",
      "arrow-cpp                 11.0.0               ha81ea56_2  \n",
      "astroid                   2.14.2          py311haa95532_0  \n",
      "astropy                   5.1             py311h5bb9823_0  \n",
      "asttokens                 2.0.5              pyhd3eb1b0_0  \n",
      "async-timeout             4.0.2           py311haa95532_0  \n",
      "atomicwrites              1.4.0                      py_0  \n",
      "attrs                     22.1.0          py311haa95532_0  \n",
      "automat                   20.2.0                     py_0  \n",
      "autopep8                  1.6.0              pyhd3eb1b0_1  \n",
      "aws-c-common              0.6.8                h2bbff1b_1  \n",
      "aws-c-event-stream        0.1.6                hd77b12b_6  \n",
      "aws-checksums             0.1.11               h2bbff1b_2  \n",
      "aws-sdk-cpp               1.8.185              hd77b12b_1  \n",
      "babel                     2.11.0          py311haa95532_0  \n",
      "backcall                  0.2.0              pyhd3eb1b0_0  \n",
      "backports                 1.1                pyhd3eb1b0_0  \n",
      "backports.functools_lru_cache 1.6.4              pyhd3eb1b0_0  \n",
      "backports.tempfile        1.0                pyhd3eb1b0_1  \n",
      "backports.weakref         1.0.post1                  py_1  \n",
      "bcrypt                    3.2.0           py311h2bbff1b_1  \n",
      "beautifulsoup4            4.12.2          py311haa95532_0  \n",
      "binaryornot               0.4.4              pyhd3eb1b0_1  \n",
      "black                     23.3.0          py311haa95532_0  \n",
      "blas                      1.0                         mkl  \n",
      "bleach                    4.1.0              pyhd3eb1b0_0  \n",
      "blosc                     1.21.3               h6c2663c_0  \n",
      "bokeh                     3.2.1           py311h746a85d_0  \n",
      "boltons                   23.0.0          py311haa95532_0  \n",
      "boost-cpp                 1.82.0               h59b6b97_1  \n",
      "botocore                  1.29.76         py311haa95532_0  \n",
      "bottleneck                1.3.5           py311h5bb9823_0  \n",
      "brotli                    1.0.9                h2bbff1b_7  \n",
      "brotli-bin                1.0.9                h2bbff1b_7  \n",
      "brotlipy                  0.7.0           py311h2bbff1b_1002  \n",
      "bzip2                     1.0.8                he774522_0  \n",
      "c-ares                    1.19.1               h2bbff1b_0  \n",
      "c-blosc2                  2.8.0                hd77b12b_0  \n",
      "ca-certificates           2023.08.22           haa95532_0  \n",
      "certifi                   2023.7.22       py311haa95532_0  \n",
      "cffi                      1.15.1          py311h2bbff1b_3  \n",
      "cfitsio                   3.470                h2bbff1b_7  \n",
      "chardet                   4.0.0           py311haa95532_1003  \n",
      "charls                    2.2.0                h6c2663c_0  \n",
      "charset-normalizer        2.0.4              pyhd3eb1b0_0  \n",
      "click                     8.0.4           py311haa95532_0  \n",
      "cloudpickle               2.2.1           py311haa95532_0  \n",
      "clyent                    1.2.2           py311haa95532_1  \n",
      "colorama                  0.4.6           py311haa95532_0  \n",
      "colorcet                  3.0.1           py311haa95532_0  \n",
      "comm                      0.1.2           py311haa95532_0  \n",
      "conda                     23.7.4          py311haa95532_0  \n",
      "conda-build               3.26.1          py311haa95532_0  \n",
      "conda-content-trust       0.2.0           py311haa95532_0  \n",
      "conda-index               0.3.0           py311haa95532_0  \n",
      "conda-libmamba-solver     23.7.0          py311haa95532_0  \n",
      "conda-pack                0.6.0              pyhd3eb1b0_0  \n",
      "conda-package-handling    2.2.0           py311haa95532_0  \n",
      "conda-package-streaming   0.9.0           py311haa95532_0  \n",
      "conda-repo-cli            1.0.75          py311haa95532_0  \n",
      "conda-token               0.4.0              pyhd3eb1b0_0  \n",
      "conda-verify              3.4.2                      py_1  \n",
      "console_shortcut          0.1.1                         4  \n",
      "constantly                15.1.0          py311haa95532_0  \n",
      "contourpy                 1.0.5           py311h59b6b97_0  \n",
      "cookiecutter              1.7.3              pyhd3eb1b0_0  \n",
      "cryptography              41.0.3          py311h89fc84f_0  \n",
      "cssselect                 1.1.0              pyhd3eb1b0_0  \n",
      "curl                      8.1.1                h2bbff1b_0  \n",
      "cycler                    0.11.0             pyhd3eb1b0_0  \n",
      "cytoolz                   0.12.0          py311h2bbff1b_0  \n",
      "daal4py                   2023.1.1        py311h30df693_0  \n",
      "dal                       2023.1.1         h59b6b97_48681  \n",
      "dask                      2023.6.0        py311haa95532_0  \n",
      "dask-core                 2023.6.0        py311haa95532_0  \n",
      "datasets                  2.12.0          py311haa95532_0  \n",
      "datashader                0.15.2          py311haa95532_0  \n",
      "datashape                 0.5.4           py311haa95532_1  \n",
      "dav1d                     1.2.1                h2bbff1b_0  \n",
      "debugpy                   1.6.7           py311hd77b12b_0  \n",
      "decorator                 5.1.1              pyhd3eb1b0_0  \n",
      "defusedxml                0.7.1              pyhd3eb1b0_0  \n",
      "diff-match-patch          20200713           pyhd3eb1b0_0  \n",
      "dill                      0.3.6           py311haa95532_0  \n",
      "distributed               2023.6.0        py311haa95532_0  \n",
      "docstring-to-markdown     0.11            py311haa95532_0  \n",
      "docutils                  0.18.1          py311haa95532_3  \n",
      "entrypoints               0.4             py311haa95532_0  \n",
      "et_xmlfile                1.1.0           py311haa95532_0  \n",
      "executing                 0.8.3              pyhd3eb1b0_0  \n",
      "filelock                  3.9.0           py311haa95532_0  \n",
      "flake8                    6.0.0           py311haa95532_0  \n",
      "flask                     2.2.2           py311haa95532_0  \n",
      "fmt                       9.1.0                h6d14046_0  \n",
      "fonttools                 4.25.0             pyhd3eb1b0_0  \n",
      "freetype                  2.12.1               ha860e81_0  \n",
      "frozenlist                1.3.3           py311h2bbff1b_0  \n",
      "fsspec                    2023.4.0        py311haa95532_0  \n",
      "future                    0.18.3          py311haa95532_0  \n",
      "gensim                    4.3.0           py311heda8569_0  \n",
      "gflags                    2.2.2                ha925a31_0  \n",
      "giflib                    5.2.1                h8cc25b3_3  \n",
      "glib                      2.69.1               h5dc1a3c_2  \n",
      "glob2                     0.7                pyhd3eb1b0_0  \n",
      "glog                      0.5.0                hd77b12b_0  \n",
      "greenlet                  2.0.1           py311hd77b12b_0  \n",
      "grpc-cpp                  1.48.2               hfe90ff0_1  \n",
      "h5py                      3.9.0           py311h4e0e482_0  \n",
      "hdf5                      1.12.1               h51c971a_3  \n",
      "heapdict                  1.0.1              pyhd3eb1b0_0  \n",
      "holoviews                 1.17.1          py311haa95532_0  \n",
      "huggingface_hub           0.15.1          py311haa95532_0  \n",
      "hvplot                    0.8.4           py311haa95532_0  \n",
      "hyperlink                 21.0.0             pyhd3eb1b0_0  \n",
      "icc_rt                    2022.1.0             h6049295_2  \n",
      "icu                       58.2                 ha925a31_3  \n",
      "idna                      3.4             py311haa95532_0  \n",
      "imagecodecs               2023.1.23       py311he6ff3c7_0  \n",
      "imageio                   2.26.0          py311haa95532_0  \n",
      "imagesize                 1.4.1           py311haa95532_0  \n",
      "imbalanced-learn          0.10.1          py311haa95532_1  \n",
      "importlib-metadata        6.0.0           py311haa95532_0  \n",
      "importlib_metadata        6.0.0                hd3eb1b0_0  \n",
      "incremental               21.3.0             pyhd3eb1b0_0  \n",
      "inflection                0.5.1           py311haa95532_0  \n",
      "iniconfig                 1.1.1              pyhd3eb1b0_0  \n",
      "intake                    0.6.8           py311haa95532_0  \n",
      "intel-openmp              2023.1.0         h59b6b97_46319  \n",
      "intervaltree              3.1.0              pyhd3eb1b0_0  \n",
      "ipykernel                 6.25.0          py311h746a85d_0  \n",
      "ipython                   8.15.0          py311haa95532_0  \n",
      "ipython_genutils          0.2.0              pyhd3eb1b0_1  \n",
      "ipywidgets                8.0.4           py311haa95532_0  \n",
      "isort                     5.9.3              pyhd3eb1b0_0  \n",
      "itemadapter               0.3.0              pyhd3eb1b0_0  \n",
      "itemloaders               1.0.4              pyhd3eb1b0_1  \n",
      "itsdangerous              2.0.1              pyhd3eb1b0_0  \n",
      "jaraco.classes            3.2.1              pyhd3eb1b0_0  \n",
      "jedi                      0.18.1          py311haa95532_1  \n",
      "jellyfish                 1.0.1           py311h36a85e1_0  \n",
      "jinja2                    3.1.2           py311haa95532_0  \n",
      "jinja2-time               0.2.0              pyhd3eb1b0_3  \n",
      "jmespath                  0.10.0             pyhd3eb1b0_0  \n",
      "joblib                    1.2.0           py311haa95532_0  \n",
      "jpeg                      9e                   h2bbff1b_1  \n",
      "jq                        1.6                  haa95532_1  \n",
      "json5                     0.9.6              pyhd3eb1b0_0  \n",
      "jsonpatch                 1.32               pyhd3eb1b0_0  \n",
      "jsonpointer               2.1                pyhd3eb1b0_0  \n",
      "jsonschema                4.17.3          py311haa95532_0  \n",
      "jupyter                   1.0.0           py311haa95532_8  \n",
      "jupyter-contrib-core      0.4.2                    pypi_0    pypi\n",
      "jupyter-contrib-nbextensions 0.7.0                    pypi_0    pypi\n",
      "jupyter-highlight-selected-word 0.2.0                    pypi_0    pypi\n",
      "jupyter-nbextensions-configurator 0.6.3                    pypi_0    pypi\n",
      "jupyter_client            7.4.9           py311haa95532_0  \n",
      "jupyter_console           6.6.3           py311haa95532_0  \n",
      "jupyter_core              5.3.0           py311haa95532_0  \n",
      "jupyter_events            0.6.3           py311haa95532_0  \n",
      "jupyter_server            1.23.4          py311haa95532_0  \n",
      "jupyter_server_fileid     0.9.0           py311haa95532_0  \n",
      "jupyter_server_ydoc       0.8.0           py311haa95532_1  \n",
      "jupyter_ydoc              0.2.4           py311haa95532_0  \n",
      "jupyterlab                3.6.3           py311haa95532_0  \n",
      "jupyterlab_pygments       0.1.2                      py_0  \n",
      "jupyterlab_server         2.22.0          py311haa95532_0  \n",
      "jupyterlab_widgets        3.0.5           py311haa95532_0  \n",
      "kaleido-core              0.2.1                h2bbff1b_0  \n",
      "keyring                   23.13.1         py311haa95532_0  \n",
      "kiwisolver                1.4.4           py311hd77b12b_0  \n",
      "krb5                      1.20.1               h5b6d351_0  \n",
      "lazy-object-proxy         1.6.0           py311h2bbff1b_0  \n",
      "lazy_loader               0.2             py311haa95532_0  \n",
      "lcms2                     2.12                 h83e58a3_0  \n",
      "lerc                      3.0                  hd77b12b_0  \n",
      "libaec                    1.0.4                h33f27b4_1  \n",
      "libarchive                3.6.2                hb62f4d4_2  \n",
      "libavif                   0.11.1               h2bbff1b_0  \n",
      "libboost                  1.82.0               hae598e9_1  \n",
      "libbrotlicommon           1.0.9                h2bbff1b_7  \n",
      "libbrotlidec              1.0.9                h2bbff1b_7  \n",
      "libbrotlienc              1.0.9                h2bbff1b_7  \n",
      "libclang                  14.0.6          default_hb5a9fac_1  \n",
      "libclang13                14.0.6          default_h8e68704_1  \n",
      "libcurl                   8.1.1                h86230a5_0  \n",
      "libdeflate                1.17                 h2bbff1b_0  \n",
      "libevent                  2.1.12               h56d1f94_1  \n",
      "libffi                    3.4.4                hd77b12b_0  \n",
      "libiconv                  1.16                 h2bbff1b_2  \n",
      "liblief                   0.12.3               hd77b12b_0  \n",
      "libmamba                  1.5.1                hcd6fe79_0  \n",
      "libmambapy                1.5.1           py311h77c03ed_0  \n",
      "libpng                    1.6.39               h8cc25b3_0  \n",
      "libpq                     12.15                h906ac69_1  \n",
      "libprotobuf               3.20.3               h23ce68f_0  \n",
      "libsodium                 1.0.18               h62dcd97_0  \n",
      "libsolv                   0.7.24               h23ce68f_0  \n",
      "libspatialindex           1.9.3                h6c2663c_0  \n",
      "libssh2                   1.10.0               he2ea4bf_2  \n",
      "libthrift                 0.15.0               h4364b78_2  \n",
      "libtiff                   4.5.1                hd77b12b_0  \n",
      "libwebp                   1.3.2                hbc33d0d_0  \n",
      "libwebp-base              1.3.2                h2bbff1b_0  \n",
      "libxml2                   2.10.4               h0ad7f3c_1  \n",
      "libxslt                   1.1.37               h2bbff1b_1  \n",
      "libzopfli                 1.0.3                ha925a31_0  \n",
      "linkify-it-py             2.0.0           py311haa95532_0  \n",
      "llvmlite                  0.40.0          py311hf2fb9eb_0  \n",
      "locket                    1.0.0           py311haa95532_0  \n",
      "lxml                      4.9.3           py311h09808a7_0  \n",
      "lz4                       4.3.2           py311h2bbff1b_0  \n",
      "lz4-c                     1.9.4                h2bbff1b_0  \n",
      "lzo                       2.10                 he774522_2  \n",
      "m2-msys2-runtime          2.5.0.17080.65c939c               3  \n",
      "m2-patch                  2.7.5                         2  \n",
      "m2w64-libwinpthread-git   5.0.0.4634.697f757               2  \n",
      "markdown                  3.4.1           py311haa95532_0  \n",
      "markdown-it-py            2.2.0           py311haa95532_1  \n",
      "markupsafe                2.1.1           py311h2bbff1b_0  \n",
      "mathjax                   2.7.5                haa95532_0  \n",
      "matplotlib                3.7.2           py311haa95532_0  \n",
      "matplotlib-base           3.7.2           py311hf62ec03_0  \n",
      "matplotlib-inline         0.1.6           py311haa95532_0  \n",
      "mccabe                    0.7.0              pyhd3eb1b0_0  \n",
      "mdit-py-plugins           0.3.0           py311haa95532_0  \n",
      "mdurl                     0.1.0           py311haa95532_0  \n",
      "menuinst                  1.4.19          py311h59b6b97_1  \n",
      "mistune                   0.8.4           py311h2bbff1b_1000  \n",
      "mkl                       2023.1.0         h6b88ed4_46357  \n",
      "mkl-service               2.4.0           py311h2bbff1b_1  \n",
      "mkl_fft                   1.3.8           py311h2bbff1b_0  \n",
      "mkl_random                1.2.4           py311h59b6b97_0  \n",
      "more-itertools            8.12.0             pyhd3eb1b0_0  \n",
      "mpmath                    1.3.0           py311haa95532_0  \n",
      "msgpack-python            1.0.3           py311h59b6b97_0  \n",
      "msys2-conda-epoch         20160418                      1  \n",
      "multidict                 6.0.2           py311h2bbff1b_0  \n",
      "multipledispatch          0.6.0           py311haa95532_0  \n",
      "multiprocess              0.70.14         py311haa95532_0  \n",
      "munkres                   1.1.4                      py_0  \n",
      "mypy_extensions           1.0.0           py311haa95532_0  \n",
      "navigator-updater         0.4.0           py311haa95532_1  \n",
      "nbclassic                 0.5.5           py311haa95532_0  \n",
      "nbclient                  0.5.13          py311haa95532_0  \n",
      "nbconvert                 6.5.4           py311haa95532_0  \n",
      "nbformat                  5.9.2           py311haa95532_0  \n",
      "nest-asyncio              1.5.6           py311haa95532_0  \n",
      "networkx                  3.1             py311haa95532_0  \n",
      "nltk                      3.8.1           py311haa95532_0  \n",
      "notebook                  6.5.4           py311haa95532_1  \n",
      "notebook-shim             0.2.2           py311haa95532_0  \n",
      "numba                     0.57.1          py311hf62ec03_0  \n",
      "numexpr                   2.8.4           py311h1fcbade_1  \n",
      "numpy                     1.24.3          py311hdab7c0b_1  \n",
      "numpy-base                1.24.3          py311hd01c5d8_1  \n",
      "numpydoc                  1.5.0           py311haa95532_0  \n",
      "openjpeg                  2.4.0                h4fc8c34_0  \n",
      "openpyxl                  3.0.10          py311h2bbff1b_0  \n",
      "openssl                   3.0.10               h2bbff1b_2  \n",
      "orc                       1.7.4                h623e30f_1  \n",
      "packaging                 23.1            py311haa95532_0  \n",
      "pandas                    2.0.3           py311hf62ec03_0  \n",
      "pandocfilters             1.5.0              pyhd3eb1b0_0  \n",
      "panel                     1.2.3           py311haa95532_0  \n",
      "param                     1.13.0          py311haa95532_0  \n",
      "paramiko                  2.8.1              pyhd3eb1b0_0  \n",
      "parsel                    1.6.0           py311haa95532_0  \n",
      "parso                     0.8.3              pyhd3eb1b0_0  \n",
      "partd                     1.4.0           py311haa95532_0  \n",
      "pathlib                   1.0.1              pyhd3eb1b0_1  \n",
      "pathspec                  0.10.3          py311haa95532_0  \n",
      "patsy                     0.5.3           py311haa95532_0  \n",
      "pcre                      8.45                 hd77b12b_0  \n",
      "pcre2                     10.42                h0ff8eda_0  \n",
      "pep8                      1.7.1           py311haa95532_1  \n",
      "pexpect                   4.8.0              pyhd3eb1b0_3  \n",
      "pickleshare               0.7.5           pyhd3eb1b0_1003  \n",
      "pillow                    9.4.0           py311hd77b12b_1  \n",
      "pip                       23.2.1          py311haa95532_0  \n",
      "pkce                      1.0.3           py311haa95532_0  \n",
      "pkginfo                   1.9.6           py311haa95532_0  \n",
      "platformdirs              3.10.0          py311haa95532_0  \n",
      "plotly                    5.9.0           py311haa95532_0  \n",
      "pluggy                    1.0.0           py311haa95532_1  \n",
      "ply                       3.11            py311haa95532_0  \n",
      "powershell_shortcut       0.0.1                         3  \n",
      "poyo                      0.5.0              pyhd3eb1b0_0  \n",
      "prometheus_client         0.14.1          py311haa95532_0  \n",
      "prompt-toolkit            3.0.36          py311haa95532_0  \n",
      "prompt_toolkit            3.0.36               hd3eb1b0_0  \n",
      "protego                   0.1.16                     py_0  \n",
      "psutil                    5.9.0           py311h2bbff1b_0  \n",
      "ptyprocess                0.7.0              pyhd3eb1b0_2  \n",
      "pure_eval                 0.2.2              pyhd3eb1b0_0  \n",
      "py-cpuinfo                8.0.0              pyhd3eb1b0_1  \n",
      "py-lief                   0.12.3          py311hd77b12b_0  \n",
      "pyarrow                   11.0.0          py311h8a3a540_1  \n",
      "pyasn1                    0.4.8              pyhd3eb1b0_0  \n",
      "pyasn1-modules            0.2.8                      py_0  \n",
      "pybind11-abi              4                    hd3eb1b0_1  \n",
      "pycodestyle               2.10.0          py311haa95532_0  \n",
      "pycosat                   0.6.4           py311h2bbff1b_0  \n",
      "pycparser                 2.21               pyhd3eb1b0_0  \n",
      "pyct                      0.5.0           py311haa95532_0  \n",
      "pycurl                    7.45.2          py311he2ea4bf_1  \n",
      "pydantic                  1.10.8          py311h2bbff1b_0  \n",
      "pydispatcher              2.0.5           py311haa95532_2  \n",
      "pydocstyle                6.3.0           py311haa95532_0  \n",
      "pyerfa                    2.0.0           py311h2bbff1b_0  \n",
      "pyflakes                  3.0.1           py311haa95532_0  \n",
      "pygments                  2.15.1          py311haa95532_1  \n",
      "pyjwt                     2.4.0           py311haa95532_0  \n",
      "pylint                    2.16.2          py311haa95532_0  \n",
      "pylint-venv               2.3.0           py311haa95532_0  \n",
      "pyls-spyder               0.4.0              pyhd3eb1b0_0  \n",
      "pynacl                    1.5.0           py311h8cc25b3_0  \n",
      "pyodbc                    4.0.34          py311hd77b12b_0  \n",
      "pyopenssl                 23.2.0          py311haa95532_0  \n",
      "pyparsing                 3.0.9           py311haa95532_0  \n",
      "pyqt                      5.15.7          py311hd77b12b_0  \n",
      "pyqt5-sip                 12.11.0         py311hd77b12b_0  \n",
      "pyqtwebengine             5.15.7          py311hd77b12b_0  \n",
      "pyrsistent                0.18.0          py311h2bbff1b_0  \n",
      "pysocks                   1.7.1           py311haa95532_0  \n",
      "pytables                  3.8.0           py311h4671533_3  \n",
      "pytest                    7.4.0           py311haa95532_0  \n",
      "python                    3.11.5               he1021f5_0  \n",
      "python-dateutil           2.8.2              pyhd3eb1b0_0  \n",
      "python-dotenv             0.21.0          py311haa95532_0  \n",
      "python-fastjsonschema     2.16.2          py311haa95532_0  \n",
      "python-json-logger        2.0.7           py311haa95532_0  \n",
      "python-kaleido            0.2.1           py311haa95532_0  \n",
      "python-libarchive-c       2.9                pyhd3eb1b0_1  \n",
      "python-lmdb               1.4.1           py311hd77b12b_0  \n",
      "python-lsp-black          1.2.1           py311haa95532_0  \n",
      "python-lsp-jsonrpc        1.0.0              pyhd3eb1b0_0  \n",
      "python-lsp-server         1.7.2           py311haa95532_0  \n",
      "python-slugify            5.0.2              pyhd3eb1b0_0  \n",
      "python-snappy             0.6.1           py311hd77b12b_0  \n",
      "python-tzdata             2023.3             pyhd3eb1b0_0  \n",
      "python-xxhash             2.0.2           py311h2bbff1b_1  \n",
      "pytoolconfig              1.2.5           py311haa95532_1  \n",
      "pytz                      2023.3.post1    py311haa95532_0  \n",
      "pyviz_comms               2.3.0           py311haa95532_0  \n",
      "pywavelets                1.4.1           py311h2bbff1b_0  \n",
      "pywin32                   305             py311h2bbff1b_0  \n",
      "pywin32-ctypes            0.2.0           py311haa95532_1000  \n",
      "pywinpty                  2.0.10          py311h5da7b33_0  \n",
      "pyyaml                    6.0             py311h2bbff1b_1  \n",
      "pyzmq                     23.2.0          py311hd77b12b_0  \n",
      "qdarkstyle                3.0.2              pyhd3eb1b0_0  \n",
      "qstylizer                 0.2.2           py311haa95532_0  \n",
      "qt-main                   5.15.2               h879a1e9_9  \n",
      "qt-webengine              5.15.9               h5bd16bc_7  \n",
      "qtawesome                 1.2.2           py311haa95532_0  \n",
      "qtconsole                 5.4.2           py311haa95532_0  \n",
      "qtpy                      2.2.0           py311haa95532_0  \n",
      "qtwebkit                  5.212                h2bbfb41_5  \n",
      "queuelib                  1.5.0           py311haa95532_0  \n",
      "re2                       2022.04.01           hd77b12b_0  \n",
      "regex                     2022.7.9        py311h2bbff1b_0  \n",
      "reproc                    14.2.4               hd77b12b_1  \n",
      "reproc-cpp                14.2.4               hd77b12b_1  \n",
      "requests                  2.31.0          py311haa95532_0  \n",
      "requests-file             1.5.1              pyhd3eb1b0_0  \n",
      "requests-toolbelt         1.0.0           py311haa95532_0  \n",
      "responses                 0.13.3             pyhd3eb1b0_0  \n",
      "rfc3339-validator         0.1.4           py311haa95532_0  \n",
      "rfc3986-validator         0.1.1           py311haa95532_0  \n",
      "rope                      1.7.0           py311haa95532_0  \n",
      "rtree                     1.0.1           py311h2eaa2aa_0  \n",
      "ruamel.yaml               0.17.21         py311h2bbff1b_0  \n",
      "ruamel_yaml               0.17.21         py311h2bbff1b_0  \n",
      "s3fs                      2023.4.0        py311haa95532_0  \n",
      "safetensors               0.3.2           py311h062c2fa_0  \n",
      "scikit-image              0.20.0          py311h3513d60_0  \n",
      "scikit-learn              1.3.0           py311hf62ec03_0  \n",
      "scikit-learn-intelex      2023.1.1        py311haa95532_0  \n",
      "scipy                     1.11.1          py311hc1ccb85_0  \n",
      "scrapy                    2.8.0           py311haa95532_0  \n",
      "seaborn                   0.12.2          py311haa95532_0  \n",
      "send2trash                1.8.0              pyhd3eb1b0_1  \n",
      "service_identity          18.1.0             pyhd3eb1b0_1  \n",
      "setuptools                68.0.0          py311haa95532_0  \n",
      "sip                       6.6.2           py311hd77b12b_0  \n",
      "six                       1.16.0             pyhd3eb1b0_1  \n",
      "smart_open                5.2.1           py311haa95532_0  \n",
      "snappy                    1.1.9                h6c2663c_0  \n",
      "sniffio                   1.2.0           py311haa95532_1  \n",
      "snowballstemmer           2.2.0              pyhd3eb1b0_0  \n",
      "sortedcontainers          2.4.0              pyhd3eb1b0_0  \n",
      "soupsieve                 2.4             py311haa95532_0  \n",
      "sphinx                    5.0.2           py311haa95532_0  \n",
      "sphinxcontrib-applehelp   1.0.2              pyhd3eb1b0_0  \n",
      "sphinxcontrib-devhelp     1.0.2              pyhd3eb1b0_0  \n",
      "sphinxcontrib-htmlhelp    2.0.0              pyhd3eb1b0_0  \n",
      "sphinxcontrib-jsmath      1.0.1              pyhd3eb1b0_0  \n",
      "sphinxcontrib-qthelp      1.0.3              pyhd3eb1b0_0  \n",
      "sphinxcontrib-serializinghtml 1.1.5              pyhd3eb1b0_0  \n",
      "spyder                    5.4.3           py311haa95532_1  \n",
      "spyder-kernels            2.4.4           py311haa95532_0  \n",
      "sqlalchemy                1.4.39          py311h2bbff1b_0  \n",
      "sqlite                    3.41.2               h2bbff1b_0  \n",
      "stack_data                0.2.0              pyhd3eb1b0_0  \n",
      "statsmodels               0.14.0          py311hd7041d2_0  \n",
      "sympy                     1.11.1          py311haa95532_0  \n",
      "tabulate                  0.8.10          py311haa95532_0  \n",
      "tbb                       2021.8.0             h59b6b97_0  \n",
      "tbb4py                    2021.8.0        py311h59b6b97_0  \n",
      "tblib                     1.7.0              pyhd3eb1b0_0  \n",
      "tenacity                  8.2.2           py311haa95532_0  \n",
      "terminado                 0.17.1          py311haa95532_0  \n",
      "text-unidecode            1.3                pyhd3eb1b0_0  \n",
      "textdistance              4.2.1              pyhd3eb1b0_0  \n",
      "threadpoolctl             2.2.0              pyh0d69192_0  \n",
      "three-merge               0.1.1              pyhd3eb1b0_0  \n",
      "tifffile                  2023.4.12       py311haa95532_0  \n",
      "tinycss2                  1.2.1           py311haa95532_0  \n",
      "tk                        8.6.12               h2bbff1b_0  \n",
      "tldextract                3.2.0              pyhd3eb1b0_0  \n",
      "tokenizers                0.13.2          py311h49fca51_1  \n",
      "toml                      0.10.2             pyhd3eb1b0_0  \n",
      "tomlkit                   0.11.1          py311haa95532_0  \n",
      "toolz                     0.12.0          py311haa95532_0  \n",
      "tornado                   6.3.2           py311h2bbff1b_0  \n",
      "tqdm                      4.65.0          py311h746a85d_0  \n",
      "traitlets                 5.7.1           py311haa95532_0  \n",
      "transformers              4.32.1          py311haa95532_0  \n",
      "twisted                   22.10.0         py311h2bbff1b_0  \n",
      "twisted-iocpsupport       1.0.2           py311h2bbff1b_0  \n",
      "typing-extensions         4.7.1           py311haa95532_0  \n",
      "typing_extensions         4.7.1           py311haa95532_0  \n",
      "tzdata                    2023c                h04d1e81_0  \n",
      "uc-micro-py               1.0.1           py311haa95532_0  \n",
      "ujson                     5.4.0           py311hd77b12b_0  \n",
      "unidecode                 1.2.0              pyhd3eb1b0_0  \n",
      "urllib3                   1.26.16         py311haa95532_0  \n",
      "utf8proc                  2.6.1                h2bbff1b_0  \n",
      "vc                        14.2                 h21ff451_1  \n",
      "vs2015_runtime            14.27.29016          h5e58377_2  \n",
      "w3lib                     1.21.0             pyhd3eb1b0_0  \n",
      "watchdog                  2.1.6           py311haa95532_0  \n",
      "wcwidth                   0.2.5              pyhd3eb1b0_0  \n",
      "webencodings              0.5.1           py311haa95532_1  \n",
      "websocket-client          0.58.0          py311haa95532_4  \n",
      "werkzeug                  2.2.3           py311haa95532_0  \n",
      "whatthepatch              1.0.2           py311haa95532_0  \n",
      "wheel                     0.38.4          py311haa95532_0  \n",
      "widgetsnbextension        4.0.5           py311haa95532_0  \n",
      "win_inet_pton             1.1.0           py311haa95532_0  \n",
      "winpty                    0.4.3                         4  \n",
      "wrapt                     1.14.1          py311h2bbff1b_0  \n",
      "xarray                    2023.6.0        py311haa95532_0  \n",
      "xlwings                   0.29.1          py311haa95532_0  \n",
      "xxhash                    0.8.0                h2bbff1b_3  \n",
      "xyzservices               2022.9.0        py311haa95532_1  \n",
      "xz                        5.4.2                h8cc25b3_0  \n",
      "y-py                      0.5.9           py311hb6bf4ef_0  \n",
      "yaml                      0.2.5                he774522_0  \n",
      "yaml-cpp                  0.7.0                hd77b12b_1  \n",
      "yapf                      0.31.0             pyhd3eb1b0_0  \n",
      "yarl                      1.8.1           py311h2bbff1b_0  \n",
      "ypy-websocket             0.8.2           py311haa95532_0  \n",
      "zeromq                    4.3.4                hd77b12b_0  \n",
      "zfp                       1.0.0                hd77b12b_0  \n",
      "zict                      2.2.0           py311haa95532_0  \n",
      "zipp                      3.11.0          py311haa95532_0  \n",
      "zlib                      1.2.13               h8cc25b3_0  \n",
      "zlib-ng                   2.0.7                h2bbff1b_0  \n",
      "zope                      1.0             py311haa95532_1  \n",
      "zope.interface            5.4.0           py311h2bbff1b_0  \n",
      "zstandard                 0.19.0          py311h2bbff1b_0  \n",
      "zstd                      1.5.5                hd43e919_0  \n",
      "\n",
      "Note: you may need to restart the kernel to use updated packages.\n"
     ]
    }
   ],
   "source": [
    "conda list"
   ]
  },
  {
   "cell_type": "markdown",
   "id": "e9c9b632",
   "metadata": {},
   "source": [
    "## faker"
   ]
  },
  {
   "cell_type": "code",
   "execution_count": 29,
   "id": "518ab02b",
   "metadata": {},
   "outputs": [
    {
     "name": "stdout",
     "output_type": "stream",
     "text": [
      "Collecting Faker\n",
      "  Obtaining dependency information for Faker from https://files.pythonhosted.org/packages/cc/9a/74db0cf3115df2f71edcaf8d86ed556195ac31575212c20425820f81bfd0/Faker-20.1.0-py3-none-any.whl.metadata\n",
      "  Downloading Faker-20.1.0-py3-none-any.whl.metadata (15 kB)\n",
      "Requirement already satisfied: python-dateutil>=2.4 in c:\\users\\user\\anaconda3\\lib\\site-packages (from Faker) (2.8.2)\n",
      "Requirement already satisfied: six>=1.5 in c:\\users\\user\\anaconda3\\lib\\site-packages (from python-dateutil>=2.4->Faker) (1.16.0)\n",
      "Downloading Faker-20.1.0-py3-none-any.whl (1.7 MB)\n",
      "   ---------------------------------------- 0.0/1.7 MB ? eta -:--:--\n",
      "    --------------------------------------- 0.0/1.7 MB 640.0 kB/s eta 0:00:03\n",
      "   ------ --------------------------------- 0.3/1.7 MB 3.2 MB/s eta 0:00:01\n",
      "   ------------------- -------------------- 0.8/1.7 MB 6.7 MB/s eta 0:00:01\n",
      "   -------------------------- ------------- 1.1/1.7 MB 7.2 MB/s eta 0:00:01\n",
      "   ---------------------------------------- 1.7/1.7 MB 8.5 MB/s eta 0:00:00\n",
      "Installing collected packages: Faker\n",
      "Successfully installed Faker-20.1.0\n",
      "Note: you may need to restart the kernel to use updated packages.\n"
     ]
    }
   ],
   "source": [
    "pip install Faker"
   ]
  },
  {
   "cell_type": "code",
   "execution_count": 30,
   "id": "ca3d089e",
   "metadata": {},
   "outputs": [
    {
     "data": {
      "text/plain": [
       "'Morgan Stephens'"
      ]
     },
     "execution_count": 30,
     "metadata": {},
     "output_type": "execute_result"
    }
   ],
   "source": [
    "from faker import Faker\n",
    "fake = Faker()\n",
    "fake.name()"
   ]
  },
  {
   "cell_type": "code",
   "execution_count": 32,
   "id": "eb244a57",
   "metadata": {},
   "outputs": [
    {
     "data": {
      "text/plain": [
       "'황정숙'"
      ]
     },
     "execution_count": 32,
     "metadata": {},
     "output_type": "execute_result"
    }
   ],
   "source": [
    "fake = Faker('ko-KR')\n",
    "fake.name()"
   ]
  },
  {
   "cell_type": "code",
   "execution_count": 33,
   "id": "e5a34202",
   "metadata": {},
   "outputs": [
    {
     "data": {
      "text/plain": [
       "'전라북도 천안시 서북구 압구정81가'"
      ]
     },
     "execution_count": 33,
     "metadata": {},
     "output_type": "execute_result"
    }
   ],
   "source": [
    "fake.address()"
   ]
  },
  {
   "cell_type": "code",
   "execution_count": 35,
   "id": "0528a4ec",
   "metadata": {},
   "outputs": [
    {
     "data": {
      "text/plain": [
       "[('이영환', '부산광역시 마포구 서초대285길'),\n",
       " ('김혜진', '인천광역시 동작구 오금로'),\n",
       " ('박경희', '세종특별자치시 중구 삼성거리 (수빈이동)'),\n",
       " ('김주원', '부산광역시 동구 반포대0거리'),\n",
       " ('이영일', '경상북도 군포시 도산대가'),\n",
       " ('김정자', '전라남도 태안군 양재천길'),\n",
       " ('이정식', '대구광역시 강동구 강남대로 (성진오강읍)'),\n",
       " ('박정훈', '전라북도 안산시 상록구 서초중앙514길'),\n",
       " ('손광수', '경상북도 수원시 서초대885길 (미숙한동)'),\n",
       " ('박영희', '광주광역시 도봉구 오금가'),\n",
       " ('박현주', '경상남도 고양시 일산서구 서초중앙로'),\n",
       " ('권수빈', '서울특별시 서구 서초대75거리 (영자김마을)'),\n",
       " ('김미정', '경상남도 연천군 백제고분526로'),\n",
       " ('박현정', '인천광역시 광진구 서초중앙로'),\n",
       " ('황성민', '경상북도 고양시 반포대길 (민석곽마을)'),\n",
       " ('김혜진', '제주특별자치도 안산시 상록구 선릉4가'),\n",
       " ('김은주', '경기도 구리시 학동13길 (지후손김동)'),\n",
       " ('김우진', '대구광역시 구로구 개포83거리 (지우최김리)'),\n",
       " ('김정식', '대전광역시 양천구 석촌호수길'),\n",
       " ('양준영', '경상남도 양양군 삼성52길'),\n",
       " ('김미경', '전라남도 부여군 강남대거리 (은정이노면)'),\n",
       " ('김정식', '전라남도 의정부시 봉은사77길'),\n",
       " ('김영수', '부산광역시 북구 논현로'),\n",
       " ('백승민', '전라북도 논산시 백제고분길 (정자전김동)'),\n",
       " ('김승현', '세종특별자치시 중구 양재천0가 (영호김마을)'),\n",
       " ('최정호', '세종특별자치시 남구 압구정로 (현준이면)'),\n",
       " ('이예은', '부산광역시 강서구 양재천060거리 (은정오배면)'),\n",
       " ('박지연', '전라남도 용인시 기흥구 학동7로 (경자김박리)'),\n",
       " ('양성현', '광주광역시 도봉구 학동5거리'),\n",
       " ('조지후', '울산광역시 용산구 영동대길 (지우최박마을)')]"
      ]
     },
     "execution_count": 35,
     "metadata": {},
     "output_type": "execute_result"
    }
   ],
   "source": [
    "test_data = [(fake.name(), fake.address()) for i in range(30)]\n",
    "test_data"
   ]
  },
  {
   "cell_type": "code",
   "execution_count": null,
   "id": "51538b6d",
   "metadata": {},
   "outputs": [],
   "source": []
  },
  {
   "cell_type": "code",
   "execution_count": null,
   "id": "06b9fab3",
   "metadata": {},
   "outputs": [],
   "source": []
  },
  {
   "cell_type": "code",
   "execution_count": null,
   "id": "2921928e",
   "metadata": {},
   "outputs": [],
   "source": []
  },
  {
   "cell_type": "code",
   "execution_count": null,
   "id": "1c90b9d6",
   "metadata": {},
   "outputs": [],
   "source": []
  },
  {
   "cell_type": "code",
   "execution_count": null,
   "id": "42c1216c",
   "metadata": {},
   "outputs": [],
   "source": []
  },
  {
   "cell_type": "code",
   "execution_count": null,
   "id": "12073d97",
   "metadata": {},
   "outputs": [],
   "source": []
  },
  {
   "cell_type": "code",
   "execution_count": null,
   "id": "f18af6a0",
   "metadata": {},
   "outputs": [],
   "source": []
  },
  {
   "cell_type": "code",
   "execution_count": null,
   "id": "86bbc976",
   "metadata": {},
   "outputs": [],
   "source": []
  },
  {
   "cell_type": "code",
   "execution_count": null,
   "id": "b09a1f54",
   "metadata": {},
   "outputs": [],
   "source": []
  },
  {
   "cell_type": "code",
   "execution_count": null,
   "id": "64ed95b9",
   "metadata": {},
   "outputs": [],
   "source": []
  },
  {
   "cell_type": "code",
   "execution_count": null,
   "id": "fa08a1e7",
   "metadata": {},
   "outputs": [],
   "source": []
  },
  {
   "cell_type": "code",
   "execution_count": null,
   "id": "704ecc83",
   "metadata": {},
   "outputs": [],
   "source": []
  },
  {
   "cell_type": "code",
   "execution_count": null,
   "id": "c82a3fd1",
   "metadata": {},
   "outputs": [],
   "source": []
  },
  {
   "cell_type": "code",
   "execution_count": null,
   "id": "ef47d20e",
   "metadata": {},
   "outputs": [],
   "source": []
  },
  {
   "cell_type": "code",
   "execution_count": null,
   "id": "8435230c",
   "metadata": {},
   "outputs": [],
   "source": []
  }
 ],
 "metadata": {
  "kernelspec": {
   "display_name": "Python 3 (ipykernel)",
   "language": "python",
   "name": "python3"
  },
  "language_info": {
   "codemirror_mode": {
    "name": "ipython",
    "version": 3
   },
   "file_extension": ".py",
   "mimetype": "text/x-python",
   "name": "python",
   "nbconvert_exporter": "python",
   "pygments_lexer": "ipython3",
   "version": "3.11.5"
  },
  "toc": {
   "base_numbering": 1,
   "nav_menu": {},
   "number_sections": true,
   "sideBar": true,
   "skip_h1_title": false,
   "title_cell": "Table of Contents",
   "title_sidebar": "Contents",
   "toc_cell": false,
   "toc_position": {},
   "toc_section_display": true,
   "toc_window_display": false
  }
 },
 "nbformat": 4,
 "nbformat_minor": 5
}
