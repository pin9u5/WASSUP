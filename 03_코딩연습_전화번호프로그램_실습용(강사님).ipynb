{
 "cells": [
  {
   "cell_type": "markdown",
   "metadata": {
    "id": "--4OkJRjoPgo"
   },
   "source": [
    "# 전화번호 프로그램 만들기\n",
    "\n",
    "* 홍길동 010-123-4567\n",
    "* 기능1 : 연락처 추가\n",
    "* 기능2 : 연락처 전체 보기\n",
    "* 기능3 : 검색, 이름을 입력받아서 전화번호 조회\n",
    "* 기능4 : 수정, 이름을 입력받아서 전화번호 입력수정\n",
    "* 기능5 : 삭제, 이름 입력받아서 삭제\n",
    "* 기능6 : 프로그램 종료"
   ]
  },
  {
   "cell_type": "markdown",
   "metadata": {
    "id": "bNves5CLoPgs"
   },
   "source": [
    "## 요구사항 분석 및 설계\n",
    "* 요구사항 분석-> 구체적인 동작을 정의\n",
    "* 홍길동, 010-123-4567 -> 딕셔너리 key : value\n",
    "* input을 받아야 되겠다, str\n",
    "* 프로그램 : while 문 사용\n",
    "* 기능 1, 2, 3, 4, 5 : if 분기문, 숫자를 입력했을 때 해당 기능이 동작\n",
    "* 기능 1 연락처 추가 : dict 추가, dic[key]=value\n",
    "* 기능 2 전체 보기 : for 문 돌려서 출력\n",
    "* 기능 3 조회 : 이름을 입력했을 때 전화번호 출력, dict[key]\n",
    "* 기능 4 수정 : dict[key]=value\n",
    "* 기능 5 삭제 : del\n",
    "* 기능 6 종료 : break\n",
    "* 예외처리"
   ]
  },
  {
   "cell_type": "code",
   "execution_count": 5,
   "metadata": {
    "id": "J3B08XTroX4b"
   },
   "outputs": [
    {
     "name": "stdout",
     "output_type": "stream",
     "text": [
      "----- 전화번호부 프로그램 실행 -----\n",
      "1.추가   2.보기   3.검색   4.수정   5.삭제   9.종료\n",
      "메뉴선택1\n",
      "연락처 추가 작업 실행\n",
      "이름: ㄱㄱㄱ\n",
      "전화번호: 123\n",
      "----- 전화번호부 프로그램 실행 -----\n",
      "1.추가   2.보기   3.검색   4.수정   5.삭제   9.종료\n",
      "메뉴선택2\n",
      "연락처 보기 작업 실행\n",
      "ㄱㄱㄱ : 123\n",
      "----- 전화번호부 프로그램 실행 -----\n",
      "1.추가   2.보기   3.검색   4.수정   5.삭제   9.종료\n",
      "메뉴선택3\n",
      "연락처 검색 작업 실행\n",
      "검색 이름: 민ㅇ\n",
      "없는 연락처입니다.\n",
      "----- 전화번호부 프로그램 실행 -----\n",
      "1.추가   2.보기   3.검색   4.수정   5.삭제   9.종료\n",
      "메뉴선택3\n",
      "연락처 검색 작업 실행\n",
      "검색 이름: ㄱㄱㄱ\n",
      "123\n",
      "----- 전화번호부 프로그램 실행 -----\n",
      "1.추가   2.보기   3.검색   4.수정   5.삭제   9.종료\n",
      "메뉴선택9\n",
      "연락처 종료 작업 실행\n"
     ]
    }
   ],
   "source": [
    "contact = {}\n",
    "\n",
    "while True:\n",
    "    print('----- 전화번호부 프로그램 실행 -----')\n",
    "    print('1.추가   2.보기   3.검색   4.수정   5.삭제   9.종료')\n",
    "    \n",
    "    menu = int(input('메뉴선택'))\n",
    "    \n",
    "    if menu == 1:\n",
    "        print('연락처 추가 작업 실행')\n",
    "        new_name = input('이름: ')\n",
    "        new_tel = input('전화번호: ')\n",
    "        contact.setdefault(new_name, new_tel)\n",
    "        \n",
    "    elif menu == 2:\n",
    "        print('연락처 보기 작업 실행')\n",
    "        for name, tel in contact.items():\n",
    "            print(name, \":\", tel)\n",
    "        \n",
    "    elif menu == 3:\n",
    "        print('연락처 검색 작업 실행')\n",
    "        search_name = input('검색 이름: ')\n",
    "        print(contact.get(search_name, '없는 연락처입니다.'))\n",
    "        \n",
    "    elif menu == 4:\n",
    "        print('연락처 수정 작업 실행')\n",
    "        mod_name = input('수정 이름:')\n",
    "        if mod_name in contact:\n",
    "            mod_tel = input('새전화번호: ')\n",
    "            contact[mod_name] = mod_tel\n",
    "        else:\n",
    "            print('등록되지 않은 이름입니다.')\n",
    "        \n",
    "    elif menu == 5:\n",
    "        print('연락처 삭제 작업 실행')\n",
    "        del_name = input('삭제 이름: ')\n",
    "        if del_name in contact:\n",
    "            del contact[del_name]\n",
    "        else:\n",
    "            print('등록되지 않은 이름입니다.')\n",
    "        \n",
    "    elif menu == 9:\n",
    "        print('연락처 종료 작업 실행')\n",
    "        break\n",
    "    \n",
    "    else:\n",
    "        print('잘못된 메뉴 선택입니다.')"
   ]
  },
  {
   "cell_type": "code",
   "execution_count": null,
   "metadata": {},
   "outputs": [],
   "source": []
  }
 ],
 "metadata": {
  "colab": {
   "provenance": []
  },
  "kernelspec": {
   "display_name": "Python 3 (ipykernel)",
   "language": "python",
   "name": "python3"
  },
  "language_info": {
   "codemirror_mode": {
    "name": "ipython",
    "version": 3
   },
   "file_extension": ".py",
   "mimetype": "text/x-python",
   "name": "python",
   "nbconvert_exporter": "python",
   "pygments_lexer": "ipython3",
   "version": "3.11.5"
  },
  "toc": {
   "base_numbering": 1,
   "nav_menu": {},
   "number_sections": true,
   "sideBar": true,
   "skip_h1_title": false,
   "title_cell": "Table of Contents",
   "title_sidebar": "Contents",
   "toc_cell": false,
   "toc_position": {},
   "toc_section_display": true,
   "toc_window_display": false
  },
  "varInspector": {
   "cols": {
    "lenName": 16,
    "lenType": 16,
    "lenVar": 40
   },
   "kernels_config": {
    "python": {
     "delete_cmd_postfix": "",
     "delete_cmd_prefix": "del ",
     "library": "var_list.py",
     "varRefreshCmd": "print(var_dic_list())"
    },
    "r": {
     "delete_cmd_postfix": ") ",
     "delete_cmd_prefix": "rm(",
     "library": "var_list.r",
     "varRefreshCmd": "cat(var_dic_list()) "
    }
   },
   "types_to_exclude": [
    "module",
    "function",
    "builtin_function_or_method",
    "instance",
    "_Feature"
   ],
   "window_display": false
  }
 },
 "nbformat": 4,
 "nbformat_minor": 1
}
